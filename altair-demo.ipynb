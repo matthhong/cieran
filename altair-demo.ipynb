{
 "cells": [
  {
   "cell_type": "code",
   "execution_count": null,
   "metadata": {},
   "outputs": [],
   "source": [
    "!pip install altair vega-datasets"
   ]
  },
  {
   "cell_type": "code",
   "execution_count": 20,
   "metadata": {},
   "outputs": [],
   "source": [
    "import altair as alt\n",
    "from vega_datasets import data\n",
    "\n",
    "counties = alt.topo_feature(data.us_10m.url, 'counties')\n",
    "source = data.unemployment.url\n",
    "\n",
    "def draw_choropleth(cmap):\n",
    "  chart = alt.Chart(counties).mark_geoshape().encode(\n",
    "      color=alt.Color('rate:Q', scale=alt.Scale(range=cmap.colors)),\n",
    "  ).transform_lookup(\n",
    "      lookup='id',\n",
    "      from_=alt.LookupData(source, 'id', ['rate'])\n",
    "  ).project(\n",
    "      type='albersUsa'\n",
    "  ).properties(\n",
    "      width=300,\n",
    "      height=220\n",
    "  )\n",
    "\n",
    "  chart.display()"
   ]
  },
  {
   "cell_type": "code",
   "execution_count": null,
   "metadata": {},
   "outputs": [],
   "source": [
    "from cieran import Cieran\n",
    "\n",
    "cie = Cieran(draw=draw_choropleth)\n",
    "cie.set_color('#186E8D')\n",
    "\n",
    "cie.teach(); cie.search()"
   ]
  }
 ],
 "metadata": {
  "kernelspec": {
   "display_name": "Python 3",
   "language": "python",
   "name": "python3"
  },
  "language_info": {
   "codemirror_mode": {
    "name": "ipython",
    "version": 3
   },
   "file_extension": ".py",
   "mimetype": "text/x-python",
   "name": "python",
   "nbconvert_exporter": "python",
   "pygments_lexer": "ipython3",
   "version": "3.10.12"
  }
 },
 "nbformat": 4,
 "nbformat_minor": 2
}
