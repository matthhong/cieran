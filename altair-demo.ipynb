{
 "cells": [
  {
   "cell_type": "code",
   "execution_count": null,
   "metadata": {},
   "outputs": [],
   "source": [
    "!pip install altair vega-datasets"
   ]
  },
  {
   "cell_type": "code",
   "execution_count": 1,
   "metadata": {},
   "outputs": [],
   "source": [
    "import altair as alt\n",
    "from vega_datasets import data\n",
    "\n",
    "counties = alt.topo_feature(data.us_10m.url, 'counties')\n",
    "source = data.unemployment.url\n",
    "\n",
    "def draw_choropleth(cmap):\n",
    "  chart = alt.Chart(counties).mark_geoshape().encode(\n",
    "      color=alt.Color('rate:Q', scale=alt.Scale(range=cmap.colors)),\n",
    "  ).transform_lookup(\n",
    "      lookup='id',\n",
    "      from_=alt.LookupData(source, 'id', ['rate'])\n",
    "  ).project(\n",
    "      type='albersUsa'\n",
    "  ).properties(\n",
    "      width=300,\n",
    "      height=220\n",
    "  )\n",
    "\n",
    "  chart.display()"
   ]
  },
  {
   "cell_type": "code",
   "execution_count": 3,
   "metadata": {},
   "outputs": [
    {
     "data": {
      "application/vnd.jupyter.widget-view+json": {
       "model_id": "1aadcee1c4574ba2a85891eb86a681c7",
       "version_major": 2,
       "version_minor": 0
      },
      "text/plain": [
       "IntProgress(value=14, layout=Layout(height='36px', margin='8px', width='auto'), max=14, style=ProgressStyle(ba…"
      ]
     },
     "metadata": {},
     "output_type": "display_data"
    },
    {
     "data": {
      "application/vnd.jupyter.widget-view+json": {
       "model_id": "dfdcfcb0abd84fd89d22a84438d96f25",
       "version_major": 2,
       "version_minor": 0
      },
      "text/plain": [
       "IntProgress(value=0, layout=Layout(height='36px', margin='8px', width='auto'), max=10000, style=ProgressStyle(…"
      ]
     },
     "metadata": {},
     "output_type": "display_data"
    }
   ],
   "source": [
    "from cieran import Cieran\n",
    "\n",
    "cie = Cieran(draw=draw_choropleth)\n",
    "cie.set_color('#186E8D')\n",
    "\n",
    "cie.teach(); cie.search()"
   ]
  },
  {
   "cell_type": "code",
   "execution_count": 4,
   "metadata": {},
   "outputs": [
    {
     "data": {
      "application/vnd.jupyter.widget-view+json": {
       "model_id": "56254d9120a7428a86117b5aee154f10",
       "version_major": 2,
       "version_minor": 0
      },
      "text/plain": [
       "HBox(children=(VBox(children=(Label(value='New colormap', layout=Layout(margin='0 auto')), IntSlider(value=70,…"
      ]
     },
     "metadata": {},
     "output_type": "display_data"
    }
   ],
   "source": [
    "cie.select()"
   ]
  },
  {
   "cell_type": "code",
   "execution_count": 5,
   "metadata": {},
   "outputs": [
    {
     "data": {
      "text/html": [
       "\n",
       "<style>\n",
       "  #altair-viz-67341916add147678e8bacaf25e87427.vega-embed {\n",
       "    width: 100%;\n",
       "    display: flex;\n",
       "  }\n",
       "\n",
       "  #altair-viz-67341916add147678e8bacaf25e87427.vega-embed details,\n",
       "  #altair-viz-67341916add147678e8bacaf25e87427.vega-embed details summary {\n",
       "    position: relative;\n",
       "  }\n",
       "</style>\n",
       "<div id=\"altair-viz-67341916add147678e8bacaf25e87427\"></div>\n",
       "<script type=\"text/javascript\">\n",
       "  var VEGA_DEBUG = (typeof VEGA_DEBUG == \"undefined\") ? {} : VEGA_DEBUG;\n",
       "  (function(spec, embedOpt){\n",
       "    let outputDiv = document.currentScript.previousElementSibling;\n",
       "    if (outputDiv.id !== \"altair-viz-67341916add147678e8bacaf25e87427\") {\n",
       "      outputDiv = document.getElementById(\"altair-viz-67341916add147678e8bacaf25e87427\");\n",
       "    }\n",
       "    const paths = {\n",
       "      \"vega\": \"https://cdn.jsdelivr.net/npm/vega@5?noext\",\n",
       "      \"vega-lib\": \"https://cdn.jsdelivr.net/npm/vega-lib?noext\",\n",
       "      \"vega-lite\": \"https://cdn.jsdelivr.net/npm/vega-lite@5.16.3?noext\",\n",
       "      \"vega-embed\": \"https://cdn.jsdelivr.net/npm/vega-embed@6?noext\",\n",
       "    };\n",
       "\n",
       "    function maybeLoadScript(lib, version) {\n",
       "      var key = `${lib.replace(\"-\", \"\")}_version`;\n",
       "      return (VEGA_DEBUG[key] == version) ?\n",
       "        Promise.resolve(paths[lib]) :\n",
       "        new Promise(function(resolve, reject) {\n",
       "          var s = document.createElement('script');\n",
       "          document.getElementsByTagName(\"head\")[0].appendChild(s);\n",
       "          s.async = true;\n",
       "          s.onload = () => {\n",
       "            VEGA_DEBUG[key] = version;\n",
       "            return resolve(paths[lib]);\n",
       "          };\n",
       "          s.onerror = () => reject(`Error loading script: ${paths[lib]}`);\n",
       "          s.src = paths[lib];\n",
       "        });\n",
       "    }\n",
       "\n",
       "    function showError(err) {\n",
       "      outputDiv.innerHTML = `<div class=\"error\" style=\"color:red;\">${err}</div>`;\n",
       "      throw err;\n",
       "    }\n",
       "\n",
       "    function displayChart(vegaEmbed) {\n",
       "      vegaEmbed(outputDiv, spec, embedOpt)\n",
       "        .catch(err => showError(`Javascript Error: ${err.message}<br>This usually means there's a typo in your chart specification. See the javascript console for the full traceback.`));\n",
       "    }\n",
       "\n",
       "    if(typeof define === \"function\" && define.amd) {\n",
       "      requirejs.config({paths});\n",
       "      require([\"vega-embed\"], displayChart, err => showError(`Error loading script: ${err.message}`));\n",
       "    } else {\n",
       "      maybeLoadScript(\"vega\", \"5\")\n",
       "        .then(() => maybeLoadScript(\"vega-lite\", \"5.16.3\"))\n",
       "        .then(() => maybeLoadScript(\"vega-embed\", \"6\"))\n",
       "        .catch(showError)\n",
       "        .then(() => displayChart(vegaEmbed));\n",
       "    }\n",
       "  })({\"config\": {\"view\": {\"continuousWidth\": 300, \"continuousHeight\": 300}}, \"data\": {\"url\": \"https://cdn.jsdelivr.net/npm/vega-datasets@v1.29.0/data/us-10m.json\", \"format\": {\"feature\": \"counties\", \"type\": \"topojson\"}}, \"mark\": {\"type\": \"geoshape\"}, \"encoding\": {\"color\": {\"field\": \"rate\", \"scale\": {\"range\": [\"#ffffff\", \"#fffefd\", \"#fffdfc\", \"#fefcfa\", \"#fefbf8\", \"#fef9f7\", \"#fef8f5\", \"#fef7f3\", \"#fdf6f1\", \"#fdf5ef\", \"#fdf3ed\", \"#fdf2ec\", \"#fcf1ea\", \"#fcf0e8\", \"#fceee6\", \"#fcede4\", \"#fbece2\", \"#fbeae0\", \"#fbe9de\", \"#fae7dc\", \"#fae6d9\", \"#fae5d7\", \"#f9e3d5\", \"#f9e2d3\", \"#f8e0d1\", \"#f8dfce\", \"#f8ddcc\", \"#f7dcca\", \"#f7dac8\", \"#f6d8c5\", \"#f6d7c3\", \"#f5d5c0\", \"#f5d4be\", \"#f4d2bb\", \"#f4d0b9\", \"#f3ceb7\", \"#f2cdb4\", \"#f2cbb1\", \"#f1c9af\", \"#f0c8ac\", \"#efc6aa\", \"#eec4a7\", \"#eec2a5\", \"#edc0a2\", \"#ebbe9f\", \"#eabd9d\", \"#e9bb9a\", \"#e8b998\", \"#e6b795\", \"#e4b593\", \"#e2b491\", \"#e0b28f\", \"#deb18d\", \"#dbaf8c\", \"#d9ae8c\", \"#d7ae8b\", \"#d5ad8c\", \"#d3ad8c\", \"#d1ad8c\", \"#cfad8d\", \"#ceac8e\", \"#ccac8f\", \"#caac90\", \"#c9ac90\", \"#c8ac91\", \"#c6ac92\", \"#c5ac93\", \"#c4ac94\", \"#c2ac95\", \"#c1ac96\", \"#c0ac97\", \"#bfac98\", \"#bdac99\", \"#bcac99\", \"#bbac9a\", \"#b9ac9a\", \"#b8ac9b\", \"#b7ab9b\", \"#b6ab9c\", \"#b4ab9c\", \"#b3ab9c\", \"#b1aa9c\", \"#b0aa9c\", \"#afa99c\", \"#ada99c\", \"#aca89c\", \"#aba89c\", \"#a9a79c\", \"#a8a79c\", \"#a6a69c\", \"#a5a69c\", \"#a3a59b\", \"#a2a59b\", \"#a0a49b\", \"#9fa39a\", \"#9da39a\", \"#9ba29a\", \"#9aa199\", \"#98a199\", \"#96a098\", \"#959f98\", \"#939e97\", \"#919e97\", \"#909d96\", \"#8e9c96\", \"#8c9b95\", \"#8a9b95\", \"#889a94\", \"#879994\", \"#859893\", \"#839893\", \"#819792\", \"#7f9692\", \"#7d9591\", \"#7b9591\", \"#799490\", \"#779390\", \"#75928f\", \"#73918f\", \"#71918e\", \"#6f908d\", \"#6d8f8d\", \"#6b8e8c\", \"#688d8c\", \"#668c8b\", \"#648c8b\", \"#628b8a\", \"#608a8a\", \"#5d8989\", \"#5b8889\", \"#598788\", \"#568688\", \"#548587\", \"#518587\", \"#4f8487\", \"#4d8386\", \"#4a8286\", \"#488185\", \"#458085\", \"#437f84\", \"#417e84\", \"#3e7d84\", \"#3c7c83\", \"#3a7b83\", \"#387a83\", \"#367982\", \"#347882\", \"#327782\", \"#317681\", \"#2f7481\", \"#2e7380\", \"#2d7280\", \"#2b717f\", \"#2b707f\", \"#2a6f7e\", \"#296e7e\", \"#296c7d\", \"#296b7c\", \"#296a7b\", \"#29697a\", \"#296779\", \"#296678\", \"#296577\", \"#296376\", \"#296275\", \"#2a6174\", \"#2a6073\", \"#2a5e71\", \"#2a5d70\", \"#2a5c6f\", \"#2a5a6e\", \"#2a596d\", \"#2a586c\", \"#2a576b\", \"#2a566a\", \"#295469\", \"#295369\", \"#295268\", \"#295167\", \"#285066\", \"#284f66\", \"#274d65\", \"#274c64\", \"#264b64\", \"#264a63\", \"#254962\", \"#254862\", \"#244761\", \"#234661\", \"#224460\", \"#224360\", \"#21425f\", \"#20415e\", \"#1f405e\", \"#1f3f5d\", \"#1e3d5c\", \"#1d3c5c\", \"#1c3b5b\", \"#1b395a\", \"#1a3859\", \"#193758\", \"#183557\", \"#173456\", \"#163255\", \"#153153\", \"#142f52\", \"#132e51\", \"#122c4f\", \"#112b4e\", \"#10294c\", \"#0f284b\", \"#0e2649\", \"#0d2547\", \"#0c2346\", \"#0b2244\", \"#0b2042\", \"#0a1f40\", \"#091e3e\", \"#081c3c\"]}, \"type\": \"quantitative\"}}, \"height\": 220, \"projection\": {\"type\": \"albersUsa\"}, \"transform\": [{\"lookup\": \"id\", \"from\": {\"data\": {\"url\": \"https://cdn.jsdelivr.net/npm/vega-datasets@v1.29.0/data/unemployment.tsv\"}, \"key\": \"id\", \"fields\": [\"rate\"]}}], \"width\": 300, \"$schema\": \"https://vega.github.io/schema/vega-lite/v5.16.3.json\"}, {\"mode\": \"vega-lite\"});\n",
       "</script>"
      ],
      "text/plain": [
       "alt.Chart(...)"
      ]
     },
     "metadata": {},
     "output_type": "display_data"
    }
   ],
   "source": [
    "draw_choropleth(cie.cmap)"
   ]
  }
 ],
 "metadata": {
  "kernelspec": {
   "display_name": "Python 3",
   "language": "python",
   "name": "python3"
  },
  "language_info": {
   "codemirror_mode": {
    "name": "ipython",
    "version": 3
   },
   "file_extension": ".py",
   "mimetype": "text/x-python",
   "name": "python",
   "nbconvert_exporter": "python",
   "pygments_lexer": "ipython3",
   "version": "3.10.12"
  }
 },
 "nbformat": 4,
 "nbformat_minor": 2
}
