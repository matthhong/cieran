{
 "cells": [
  {
   "cell_type": "code",
   "execution_count": null,
   "metadata": {},
   "outputs": [],
   "source": [
    "!pip install altair vega-datasets"
   ]
  },
  {
   "cell_type": "code",
   "execution_count": 1,
   "metadata": {},
   "outputs": [],
   "source": [
    "import altair as alt\n",
    "from vega_datasets import data\n",
    "\n",
    "counties = alt.topo_feature(data.us_10m.url, 'counties')\n",
    "source = data.unemployment.url\n",
    "\n",
    "def draw_choropleth(cmap):\n",
    "  chart = alt.Chart(counties).mark_geoshape().encode(\n",
    "      color=alt.Color('rate:Q', scale=alt.Scale(range=cmap.colors)),\n",
    "  ).transform_lookup(\n",
    "      lookup='id',\n",
    "      from_=alt.LookupData(source, 'id', ['rate'])\n",
    "  ).project(\n",
    "      type='albersUsa'\n",
    "  ).properties(\n",
    "      width=300,\n",
    "      height=220\n",
    "  )\n",
    "\n",
    "  chart.display()"
   ]
  },
  {
   "cell_type": "code",
   "execution_count": 2,
   "metadata": {},
   "outputs": [
    {
     "data": {
      "application/vnd.jupyter.widget-view+json": {
       "model_id": "e91f5a2812e84afc8324a20d651c268c",
       "version_major": 2,
       "version_minor": 0
      },
      "text/plain": [
       "IntProgress(value=14, layout=Layout(height='36px', margin='8px', width='auto'), max=14, style=ProgressStyle(ba…"
      ]
     },
     "metadata": {},
     "output_type": "display_data"
    },
    {
     "data": {
      "application/vnd.jupyter.widget-view+json": {
       "model_id": "b0157b4de8194aa6861391c86ec0d960",
       "version_major": 2,
       "version_minor": 0
      },
      "text/plain": [
       "IntProgress(value=0, layout=Layout(height='36px', margin='8px', width='auto'), max=10000, style=ProgressStyle(…"
      ]
     },
     "metadata": {},
     "output_type": "display_data"
    }
   ],
   "source": [
    "from cieran import Cieran\n",
    "\n",
    "cie = Cieran(draw=draw_choropleth)\n",
    "cie.set_color('#186E8D')\n",
    "\n",
    "cie.teach(); cie.search()"
   ]
  },
  {
   "cell_type": "code",
   "execution_count": 3,
   "metadata": {},
   "outputs": [
    {
     "data": {
      "application/vnd.jupyter.widget-view+json": {
       "model_id": "4dfb011b0f6a48b9bf1fafee8bf7ba00",
       "version_major": 2,
       "version_minor": 0
      },
      "text/plain": [
       "HBox(children=(VBox(children=(Label(value='New colormap', layout=Layout(margin='0 auto')), IntSlider(value=70,…"
      ]
     },
     "metadata": {},
     "output_type": "display_data"
    }
   ],
   "source": [
    "cie.select()"
   ]
  },
  {
   "cell_type": "code",
   "execution_count": 5,
   "metadata": {},
   "outputs": [
    {
     "data": {
      "text/html": [
       "\n",
       "<style>\n",
       "  #altair-viz-4bb8cfc86a7c461b9df86d160267bbaa.vega-embed {\n",
       "    width: 100%;\n",
       "    display: flex;\n",
       "  }\n",
       "\n",
       "  #altair-viz-4bb8cfc86a7c461b9df86d160267bbaa.vega-embed details,\n",
       "  #altair-viz-4bb8cfc86a7c461b9df86d160267bbaa.vega-embed details summary {\n",
       "    position: relative;\n",
       "  }\n",
       "</style>\n",
       "<div id=\"altair-viz-4bb8cfc86a7c461b9df86d160267bbaa\"></div>\n",
       "<script type=\"text/javascript\">\n",
       "  var VEGA_DEBUG = (typeof VEGA_DEBUG == \"undefined\") ? {} : VEGA_DEBUG;\n",
       "  (function(spec, embedOpt){\n",
       "    let outputDiv = document.currentScript.previousElementSibling;\n",
       "    if (outputDiv.id !== \"altair-viz-4bb8cfc86a7c461b9df86d160267bbaa\") {\n",
       "      outputDiv = document.getElementById(\"altair-viz-4bb8cfc86a7c461b9df86d160267bbaa\");\n",
       "    }\n",
       "    const paths = {\n",
       "      \"vega\": \"https://cdn.jsdelivr.net/npm/vega@5?noext\",\n",
       "      \"vega-lib\": \"https://cdn.jsdelivr.net/npm/vega-lib?noext\",\n",
       "      \"vega-lite\": \"https://cdn.jsdelivr.net/npm/vega-lite@5.16.3?noext\",\n",
       "      \"vega-embed\": \"https://cdn.jsdelivr.net/npm/vega-embed@6?noext\",\n",
       "    };\n",
       "\n",
       "    function maybeLoadScript(lib, version) {\n",
       "      var key = `${lib.replace(\"-\", \"\")}_version`;\n",
       "      return (VEGA_DEBUG[key] == version) ?\n",
       "        Promise.resolve(paths[lib]) :\n",
       "        new Promise(function(resolve, reject) {\n",
       "          var s = document.createElement('script');\n",
       "          document.getElementsByTagName(\"head\")[0].appendChild(s);\n",
       "          s.async = true;\n",
       "          s.onload = () => {\n",
       "            VEGA_DEBUG[key] = version;\n",
       "            return resolve(paths[lib]);\n",
       "          };\n",
       "          s.onerror = () => reject(`Error loading script: ${paths[lib]}`);\n",
       "          s.src = paths[lib];\n",
       "        });\n",
       "    }\n",
       "\n",
       "    function showError(err) {\n",
       "      outputDiv.innerHTML = `<div class=\"error\" style=\"color:red;\">${err}</div>`;\n",
       "      throw err;\n",
       "    }\n",
       "\n",
       "    function displayChart(vegaEmbed) {\n",
       "      vegaEmbed(outputDiv, spec, embedOpt)\n",
       "        .catch(err => showError(`Javascript Error: ${err.message}<br>This usually means there's a typo in your chart specification. See the javascript console for the full traceback.`));\n",
       "    }\n",
       "\n",
       "    if(typeof define === \"function\" && define.amd) {\n",
       "      requirejs.config({paths});\n",
       "      require([\"vega-embed\"], displayChart, err => showError(`Error loading script: ${err.message}`));\n",
       "    } else {\n",
       "      maybeLoadScript(\"vega\", \"5\")\n",
       "        .then(() => maybeLoadScript(\"vega-lite\", \"5.16.3\"))\n",
       "        .then(() => maybeLoadScript(\"vega-embed\", \"6\"))\n",
       "        .catch(showError)\n",
       "        .then(() => displayChart(vegaEmbed));\n",
       "    }\n",
       "  })({\"config\": {\"view\": {\"continuousWidth\": 300, \"continuousHeight\": 300}}, \"data\": {\"url\": \"https://cdn.jsdelivr.net/npm/vega-datasets@v1.29.0/data/us-10m.json\", \"format\": {\"feature\": \"counties\", \"type\": \"topojson\"}}, \"mark\": {\"type\": \"geoshape\"}, \"encoding\": {\"color\": {\"field\": \"rate\", \"scale\": {\"range\": [\"#ffffff\", \"#fffeff\", \"#fffdff\", \"#fefdff\", \"#fefcff\", \"#fefbff\", \"#fefaff\", \"#fdf9ff\", \"#fdf8fe\", \"#fdf8fe\", \"#fdf7fe\", \"#fcf6fe\", \"#fcf5fe\", \"#fcf4fe\", \"#fcf3fe\", \"#fbf2fe\", \"#fbf1fe\", \"#fbf0fe\", \"#faeffe\", \"#faedfd\", \"#faecfd\", \"#f9ebfd\", \"#f9eafd\", \"#f9e9fd\", \"#f8e8fd\", \"#f8e6fd\", \"#f7e5fd\", \"#f7e4fc\", \"#f7e2fc\", \"#f6e1fc\", \"#f6dffc\", \"#f5defc\", \"#f5ddfb\", \"#f4dbfb\", \"#f4dafb\", \"#f3d8fb\", \"#f3d6fb\", \"#f2d5fa\", \"#f2d3fa\", \"#f1d1fa\", \"#f1d0f9\", \"#f0cef9\", \"#f0ccf9\", \"#efcaf9\", \"#eec8f8\", \"#eec6f8\", \"#edc5f7\", \"#ecc3f7\", \"#ebc1f7\", \"#ebbff6\", \"#eabdf6\", \"#e9bbf5\", \"#e8b9f4\", \"#e8b6f4\", \"#e7b4f3\", \"#e6b2f2\", \"#e5b0f2\", \"#e4aef1\", \"#e3acf0\", \"#e2aaef\", \"#e1a7ee\", \"#dfa5ed\", \"#dea3eb\", \"#dda1e9\", \"#db9fe8\", \"#d99de5\", \"#d79be3\", \"#d59ae1\", \"#d299de\", \"#cf98dd\", \"#cc98db\", \"#ca98db\", \"#c899db\", \"#c599db\", \"#c399db\", \"#c199dc\", \"#bf99dc\", \"#bd9add\", \"#bb9add\", \"#b99add\", \"#b89ade\", \"#b69ade\", \"#b49adf\", \"#b29bdf\", \"#b09bdf\", \"#ae9bdf\", \"#ac9bdf\", \"#aa9bdf\", \"#a89bdf\", \"#a59bde\", \"#a39bde\", \"#a19bdd\", \"#9f9adc\", \"#9d9adb\", \"#9a9adb\", \"#989ada\", \"#969ad9\", \"#949ad8\", \"#929ad7\", \"#9099d6\", \"#8e99d6\", \"#8c99d5\", \"#8a99d4\", \"#8899d4\", \"#8699d3\", \"#8499d3\", \"#8199d2\", \"#7f99d2\", \"#7d99d2\", \"#7b99d2\", \"#7999d1\", \"#7799d1\", \"#7599d1\", \"#7399d1\", \"#7099d0\", \"#6e99d0\", \"#6c99d0\", \"#6999d0\", \"#6799d0\", \"#6499d0\", \"#6199cf\", \"#5e99cf\", \"#5b99cf\", \"#5898cf\", \"#5498cf\", \"#5198ce\", \"#4d97ce\", \"#4997cd\", \"#4596cc\", \"#4196cb\", \"#3d95c9\", \"#3a94c8\", \"#3693c6\", \"#3392c4\", \"#3190c2\", \"#2e8fc0\", \"#2c8ebe\", \"#2b8dbc\", \"#298cb9\", \"#288ab7\", \"#2789b5\", \"#2688b3\", \"#2587b1\", \"#2485ae\", \"#2484ac\", \"#2383aa\", \"#2382a8\", \"#2381a6\", \"#237fa4\", \"#237ea1\", \"#237d9f\", \"#237c9d\", \"#237a9b\", \"#237999\", \"#237897\", \"#237795\", \"#237592\", \"#247490\", \"#24738e\", \"#24718c\", \"#25708a\", \"#256f88\", \"#266d86\", \"#266c84\", \"#276a82\", \"#276980\", \"#27677e\", \"#28667c\", \"#28647a\", \"#296378\", \"#296176\", \"#296075\", \"#295f73\", \"#2a5d71\", \"#2a5c70\", \"#2a5a6f\", \"#2a596d\", \"#2a576c\", \"#2a566b\", \"#29556a\", \"#295469\", \"#295268\", \"#295167\", \"#285066\", \"#284f66\", \"#274d65\", \"#274c64\", \"#264b64\", \"#264a63\", \"#254962\", \"#244862\", \"#244661\", \"#234561\", \"#224460\", \"#21435f\", \"#21415f\", \"#20405e\", \"#1f3f5d\", \"#1e3e5c\", \"#1d3c5c\", \"#1c3b5b\", \"#1b395a\", \"#1a3859\", \"#193758\", \"#183557\", \"#173456\", \"#163254\", \"#153153\", \"#142f52\", \"#132d50\", \"#122c4f\", \"#112a4d\", \"#10294b\", \"#0f274a\", \"#0e2548\", \"#0d2446\", \"#0c2244\", \"#0b2142\", \"#0a1f40\", \"#091e3e\", \"#081c3c\"]}, \"type\": \"quantitative\"}}, \"height\": 220, \"projection\": {\"type\": \"albersUsa\"}, \"transform\": [{\"lookup\": \"id\", \"from\": {\"data\": {\"url\": \"https://cdn.jsdelivr.net/npm/vega-datasets@v1.29.0/data/unemployment.tsv\"}, \"key\": \"id\", \"fields\": [\"rate\"]}}], \"width\": 300, \"$schema\": \"https://vega.github.io/schema/vega-lite/v5.16.3.json\"}, {\"mode\": \"vega-lite\"});\n",
       "</script>"
      ],
      "text/plain": [
       "alt.Chart(...)"
      ]
     },
     "metadata": {},
     "output_type": "display_data"
    }
   ],
   "source": [
    "draw_choropleth(cie.cmap)"
   ]
  },
  {
   "cell_type": "code",
   "execution_count": null,
   "metadata": {},
   "outputs": [],
   "source": []
  }
 ],
 "metadata": {
  "kernelspec": {
   "display_name": "Python 3",
   "language": "python",
   "name": "python3"
  },
  "language_info": {
   "codemirror_mode": {
    "name": "ipython",
    "version": 3
   },
   "file_extension": ".py",
   "mimetype": "text/x-python",
   "name": "python",
   "nbconvert_exporter": "python",
   "pygments_lexer": "ipython3",
   "version": "3.10.12"
  }
 },
 "nbformat": 4,
 "nbformat_minor": 2
}
