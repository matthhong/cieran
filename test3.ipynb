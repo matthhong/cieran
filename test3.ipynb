{
 "cells": [
  {
   "cell_type": "code",
   "execution_count": 8,
   "metadata": {},
   "outputs": [
    {
     "data": {
      "application/vnd.jupyter.widget-view+json": {
       "model_id": "254da4c7e36d477aa9f1af2763348ef4",
       "version_major": 2,
       "version_minor": 0
      },
      "text/plain": [
       "Output()"
      ]
     },
     "metadata": {},
     "output_type": "display_data"
    }
   ],
   "source": [
    "import ipywidgets as widgets\n",
    "from IPython.display import display\n",
    "import matplotlib.pyplot as plt\n",
    "\n",
    "# define two functions that return plots\n",
    "def plot1():\n",
    "    x = [1, 2, 3, 4, 5]\n",
    "    y = [1, 4, 9, 16, 25]\n",
    "    plt.plot(x, y)\n",
    "    plt.title('Plot 1')\n",
    "    plt.xlabel('x')\n",
    "    plt.ylabel('y')\n",
    "    plt.show()\n",
    "\n",
    "def plot2():\n",
    "    x = [1, 2, 3, 4, 5]\n",
    "    y = [1, 2, 3, 4, 5]\n",
    "    plt.plot(x, y)\n",
    "    plt.title('Plot 2')\n",
    "    plt.xlabel('x')\n",
    "    plt.ylabel('y')\n",
    "    plt.show()\n",
    "\n",
    "# create widgets for each plot\n",
    "plot_widget1 = widgets.interactive_output(plot1, {})\n",
    "plot_widget2 = widgets.interactive_output(plot2, {})\n",
    "\n",
    "# create an HBox layout widget to display the plots side by side\n",
    "plots_hbox = widgets.HBox([plot_widget1, plot_widget2])\n",
    "\n",
    "out = widgets.Output()\n",
    "display(out)\n",
    "with out:\n",
    "    # display the HBox widget\n",
    "    display(plots_hbox)"
   ]
  },
  {
   "cell_type": "code",
   "execution_count": 9,
   "metadata": {},
   "outputs": [],
   "source": [
    "from IPython.display import clear_output\n",
    "\n",
    "with out:\n",
    "    clear_output()"
   ]
  },
  {
   "cell_type": "code",
   "execution_count": null,
   "metadata": {},
   "outputs": [],
   "source": []
  }
 ],
 "metadata": {
  "kernelspec": {
   "display_name": "ramp-it",
   "language": "python",
   "name": "python3"
  },
  "language_info": {
   "codemirror_mode": {
    "name": "ipython",
    "version": 3
   },
   "file_extension": ".py",
   "mimetype": "text/x-python",
   "name": "python",
   "nbconvert_exporter": "python",
   "pygments_lexer": "ipython3",
   "version": "3.10.8"
  },
  "orig_nbformat": 4,
  "vscode": {
   "interpreter": {
    "hash": "598115aadcd325614e14ae54e6e1065c9f2252c8332948ad864ca717b5f2546d"
   }
  }
 },
 "nbformat": 4,
 "nbformat_minor": 2
}
