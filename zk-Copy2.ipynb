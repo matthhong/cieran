{
 "cells": [
  {
   "cell_type": "code",
   "execution_count": 10,
   "id": "9975b500",
   "metadata": {
    "scrolled": true
   },
   "outputs": [
    {
     "data": {
      "application/vnd.jupyter.widget-view+json": {
       "model_id": "c6a71d2e6e9a4e83b5aea72abbbf8d98",
       "version_major": 2,
       "version_minor": 0
      },
      "text/plain": [
       "Output()"
      ]
     },
     "metadata": {},
     "output_type": "display_data"
    }
   ],
   "source": [
    "cie = Cieran(color='tableau10', draw=draw_kde)"
   ]
  },
  {
   "cell_type": "code",
   "execution_count": 14,
   "id": "e8bf0a17",
   "metadata": {},
   "outputs": [
    {
     "data": {
      "application/vnd.jupyter.widget-view+json": {
       "model_id": "e696d3e432584747a87873d971b6ded9",
       "version_major": 2,
       "version_minor": 0
      },
      "text/plain": [
       "IntProgress(value=14, layout=Layout(height='36px', margin='8px', width='auto'), max=14, style=ProgressStyle(ba…"
      ]
     },
     "metadata": {},
     "output_type": "display_data"
    },
    {
     "data": {
      "application/vnd.jupyter.widget-view+json": {
       "model_id": "b9052efa7df5468c9ea57d2acf95e38b",
       "version_major": 2,
       "version_minor": 0
      },
      "text/plain": [
       "IntProgress(value=0, layout=Layout(height='36px', margin='8px', width='auto'), max=20000, style=ProgressStyle(…"
      ]
     },
     "metadata": {},
     "output_type": "display_data"
    }
   ],
   "source": [
    "cie.teach(); cie.search()"
   ]
  },
  {
   "cell_type": "code",
   "execution_count": 15,
   "id": "150f7f5a",
   "metadata": {},
   "outputs": [
    {
     "data": {
      "application/vnd.jupyter.widget-view+json": {
       "model_id": "a86ec6b213194acf8e078e3cf105653d",
       "version_major": 2,
       "version_minor": 0
      },
      "text/plain": [
       "GridBox(children=(Output(outputs=({'output_type': 'display_data', 'data': {'text/plain': \"IntText(value=0, des…"
      ]
     },
     "metadata": {},
     "output_type": "display_data"
    }
   ],
   "source": [
    "cie.options_display"
   ]
  },
  {
   "cell_type": "code",
   "execution_count": 16,
   "id": "bd8545a4",
   "metadata": {},
   "outputs": [],
   "source": [
    "cie.save_data()"
   ]
  },
  {
   "cell_type": "code",
   "execution_count": 17,
   "id": "f7829662",
   "metadata": {},
   "outputs": [
    {
     "data": {
      "application/vnd.jupyter.widget-view+json": {
       "model_id": "d8d9f98b5a04432eaa7629eac3ee1652",
       "version_major": 2,
       "version_minor": 0
      },
      "text/plain": [
       "Output()"
      ]
     },
     "metadata": {},
     "output_type": "display_data"
    }
   ],
   "source": [
    "cie2 = Cieran(color='tableau10', draw=draw_kde)"
   ]
  },
  {
   "cell_type": "code",
   "execution_count": 18,
   "id": "9bb46ccf",
   "metadata": {},
   "outputs": [
    {
     "data": {
      "application/vnd.jupyter.widget-view+json": {
       "model_id": "ef16f75a547a4934aa2eee614ee56dcf",
       "version_major": 2,
       "version_minor": 0
      },
      "text/plain": [
       "IntProgress(value=14, layout=Layout(height='36px', margin='8px', width='auto'), max=14, style=ProgressStyle(ba…"
      ]
     },
     "metadata": {},
     "output_type": "display_data"
    },
    {
     "data": {
      "application/vnd.jupyter.widget-view+json": {
       "model_id": "2c70b23f08ff487d84ce5d5306732894",
       "version_major": 2,
       "version_minor": 0
      },
      "text/plain": [
       "IntProgress(value=0, layout=Layout(height='36px', margin='8px', width='auto'), max=20000, style=ProgressStyle(…"
      ]
     },
     "metadata": {},
     "output_type": "display_data"
    }
   ],
   "source": [
    "cie2.teach(); cie2.search()"
   ]
  },
  {
   "cell_type": "code",
   "execution_count": 19,
   "id": "1fe6b24c",
   "metadata": {},
   "outputs": [
    {
     "data": {
      "application/vnd.jupyter.widget-view+json": {
       "model_id": "453a5be173ef48419e7c6ea7feedfb64",
       "version_major": 2,
       "version_minor": 0
      },
      "text/plain": [
       "GridBox(children=(Output(outputs=({'output_type': 'display_data', 'data': {'text/plain': \"IntText(value=0, des…"
      ]
     },
     "metadata": {},
     "output_type": "display_data"
    }
   ],
   "source": [
    "cie2.options_display"
   ]
  },
  {
   "cell_type": "code",
   "execution_count": null,
   "id": "b35a8096",
   "metadata": {},
   "outputs": [],
   "source": []
  },
  {
   "cell_type": "code",
   "execution_count": 25,
   "id": "e61fe594",
   "metadata": {},
   "outputs": [
    {
     "data": {
      "application/vnd.jupyter.widget-view+json": {
       "model_id": "deb7bb7914eb4ccfb628ed644a44a765",
       "version_major": 2,
       "version_minor": 0
      },
      "text/plain": [
       "GridBox(children=(Output(outputs=({'output_type': 'display_data', 'data': {'text/plain': \"IntText(value=0, des…"
      ]
     },
     "metadata": {},
     "output_type": "display_data"
    }
   ],
   "source": [
    "cie2.options(45)"
   ]
  },
  {
   "cell_type": "code",
   "execution_count": null,
   "id": "755569a8",
   "metadata": {},
   "outputs": [],
   "source": []
  },
  {
   "cell_type": "code",
   "execution_count": null,
   "id": "4441f1c5",
   "metadata": {},
   "outputs": [],
   "source": []
  },
  {
   "cell_type": "code",
   "execution_count": null,
   "id": "36e7411b",
   "metadata": {},
   "outputs": [],
   "source": []
  },
  {
   "cell_type": "code",
   "execution_count": null,
   "id": "743b05e8",
   "metadata": {},
   "outputs": [],
   "source": []
  },
  {
   "cell_type": "code",
   "execution_count": 20,
   "id": "171bc068",
   "metadata": {},
   "outputs": [],
   "source": [
    "cie2.save_data()"
   ]
  },
  {
   "cell_type": "code",
   "execution_count": null,
   "id": "a79ddd8d",
   "metadata": {},
   "outputs": [],
   "source": []
  },
  {
   "cell_type": "code",
   "execution_count": 21,
   "id": "e4c2f6c6",
   "metadata": {},
   "outputs": [
    {
     "data": {
      "application/vnd.jupyter.widget-view+json": {
       "model_id": "cabed96c0886479d931680dca810ca6d",
       "version_major": 2,
       "version_minor": 0
      },
      "text/plain": [
       "Output()"
      ]
     },
     "metadata": {},
     "output_type": "display_data"
    }
   ],
   "source": [
    "cie3 = Cieran(color='tableau10', draw=draw_kde)"
   ]
  },
  {
   "cell_type": "code",
   "execution_count": 22,
   "id": "6ded3955",
   "metadata": {},
   "outputs": [
    {
     "data": {
      "application/vnd.jupyter.widget-view+json": {
       "model_id": "3d49c10e577a4d489397248529b9132c",
       "version_major": 2,
       "version_minor": 0
      },
      "text/plain": [
       "IntProgress(value=14, layout=Layout(height='36px', margin='8px', width='auto'), max=14, style=ProgressStyle(ba…"
      ]
     },
     "metadata": {},
     "output_type": "display_data"
    },
    {
     "data": {
      "application/vnd.jupyter.widget-view+json": {
       "model_id": "ad8fea1d0d79463dbd11f532b28a4ec2",
       "version_major": 2,
       "version_minor": 0
      },
      "text/plain": [
       "IntProgress(value=0, layout=Layout(height='36px', margin='8px', width='auto'), max=20000, style=ProgressStyle(…"
      ]
     },
     "metadata": {},
     "output_type": "display_data"
    }
   ],
   "source": [
    "cie3.teach(); cie3.search()"
   ]
  },
  {
   "cell_type": "code",
   "execution_count": 23,
   "id": "c457ee4f",
   "metadata": {},
   "outputs": [
    {
     "data": {
      "application/vnd.jupyter.widget-view+json": {
       "model_id": "2b417380007d48c38edf8161e6c17256",
       "version_major": 2,
       "version_minor": 0
      },
      "text/plain": [
       "GridBox(children=(Output(outputs=({'output_type': 'display_data', 'data': {'text/plain': \"IntText(value=0, des…"
      ]
     },
     "metadata": {},
     "output_type": "display_data"
    }
   ],
   "source": [
    "cie3.options_display"
   ]
  },
  {
   "cell_type": "code",
   "execution_count": 24,
   "id": "4982c0ca",
   "metadata": {},
   "outputs": [],
   "source": [
    "cie3.save_data()"
   ]
  },
  {
   "cell_type": "code",
   "execution_count": 26,
   "id": "01cb5168",
   "metadata": {},
   "outputs": [
    {
     "data": {
      "application/vnd.jupyter.widget-view+json": {
       "model_id": "783e685f352b4c9f9fc1f9bd549aed2c",
       "version_major": 2,
       "version_minor": 0
      },
      "text/plain": [
       "GridBox(children=(Output(outputs=({'output_type': 'display_data', 'data': {'text/plain': \"IntText(value=0, des…"
      ]
     },
     "metadata": {},
     "output_type": "display_data"
    }
   ],
   "source": [
    "cie3.options(45)"
   ]
  },
  {
   "cell_type": "code",
   "execution_count": 41,
   "id": "373b2108",
   "metadata": {},
   "outputs": [
    {
     "data": {
      "image/png": "[encoded data removed]",
      "text/html": [
       "<div style=\"vertical-align: middle;\"><strong>from_list</strong> </div><div class=\"cmap\"><img alt=\"from_list colormap\" title=\"from_list\" style=\"border: 1px solid #555;\" src=\"data:image/png;base64,iVBORw0KGgoAAAANSUhEUgAAAgAAAABACAYAAABsv8+/AAAAGHRFWHRUaXRsZQBmcm9tX2xpc3QgY29sb3JtYXBDL89FAAAAHnRFWHREZXNjcmlwdGlvbgBmcm9tX2xpc3QgY29sb3JtYXABtCnOAAAAMHRFWHRBdXRob3IATWF0cGxvdGxpYiB2My43LjAsIGh0dHBzOi8vbWF0cGxvdGxpYi5vcmePJGhDAAAAMnRFWHRTb2Z0d2FyZQBNYXRwbG90bGliIHYzLjcuMCwgaHR0cHM6Ly9tYXRwbG90bGliLm9yZ6GC92QAAAFoSURBVHic7dZLSkNRFABBo/vfWgw4EJxE8AOCURACGeW5iusBu2oFPezdtm3bzT93fzhMJyz3+PQ8nbDc6+luOmG5h8/LdMJSX2/f0wnLXV9O0wnLnY8/0wnLfbzvpxOWu50OAAD+ngEAgCADAABBBgAAggwAAAQZAAAIMgAAEGQAACDIAABAkAEAgCADAABBBgAAggwAAAQZAAAIMgAAEGQAACDIAABAkAEAgCADAABBBgAAggwAAAQZAAAIMgAAEGQAACDIAABAkAEAgCADAABBBgAAggwAAAQZAAAIMgAAEGQAACDIAABAkAEAgCADAABBBgAAggwAAAQZAAAIMgAAEGQAACDIAABAkAEAgCADAABBBgAAggwAAAQZAAAIMgAAEGQAACDIAABAkAEAgCADAABBBgAAggwAAAQZAAAIMgAAEGQAACDIAABAkAEAgCADAABBBgAAggwAAAQZAAAIMgAAEPQLkKwY+klIXSwAAAAASUVORK5CYII=\"></div><div style=\"vertical-align: middle; max-width: 514px; display: flex; justify-content: space-between;\"><div style=\"float: left;\"><div title=\"#ffffffff\" style=\"display: inline-block; width: 1em; height: 1em; margin: 0; vertical-align: middle; border: 1px solid #555; background-color: #ffffffff;\"></div> under</div><div style=\"margin: 0 auto; display: inline-block;\">bad <div title=\"#00000000\" style=\"display: inline-block; width: 1em; height: 1em; margin: 0; vertical-align: middle; border: 1px solid #555; background-color: #00000000;\"></div></div><div style=\"float: right;\">over <div title=\"#260f46ff\" style=\"display: inline-block; width: 1em; height: 1em; margin: 0; vertical-align: middle; border: 1px solid #555; background-color: #260f46ff;\"></div></div>"
      ],
      "text/plain": [
       "<matplotlib.colors.ListedColormap at 0x16c9437c0>"
      ]
     },
     "execution_count": 41,
     "metadata": {},
     "output_type": "execute_result"
    }
   ],
   "source": [
    "cie3._search_result.ramp.resampled(9)"
   ]
  },
  {
   "cell_type": "code",
   "execution_count": 42,
   "id": "59c1fb19",
   "metadata": {},
   "outputs": [
    {
     "data": {
      "image/png": "[encoded data removed]",
      "text/html": [
       "<div style=\"vertical-align: middle;\"><strong>from_list</strong> </div><div class=\"cmap\"><img alt=\"from_list colormap\" title=\"from_list\" style=\"border: 1px solid #555;\" src=\"data:image/png;base64,iVBORw0KGgoAAAANSUhEUgAAAgAAAABACAYAAABsv8+/AAAAGHRFWHRUaXRsZQBmcm9tX2xpc3QgY29sb3JtYXBDL89FAAAAHnRFWHREZXNjcmlwdGlvbgBmcm9tX2xpc3QgY29sb3JtYXABtCnOAAAAMHRFWHRBdXRob3IATWF0cGxvdGxpYiB2My43LjAsIGh0dHBzOi8vbWF0cGxvdGxpYi5vcmePJGhDAAAAMnRFWHRTb2Z0d2FyZQBNYXRwbG90bGliIHYzLjcuMCwgaHR0cHM6Ly9tYXRwbG90bGliLm9yZ6GC92QAAAFqSURBVHic7dYxakJRAERRdf97C6iYKsEisVC0ECHB5mcBqR8PvOesYKrhrpdlWVYvbrvbzZ4w3P7wMXvCcJ+XzewJw72dHrMnDPVzPM+eMNzz6z57wnC/37fZE4a7XN9nTxju9R8VAPhHAABAkAAAgCABAABBAgAAggQAAAQJAAAIEgAAECQAACBIAABAkAAAgCABAABBAgAAggQAAAQJAAAIEgAAECQAACBIAABAkAAAgCABAABBAgAAggQAAAQJAAAIEgAAECQAACBIAABAkAAAgCABAABBAgAAggQAAAQJAAAIEgAAECQAACBIAABAkAAAgCABAABBAgAAggQAAAQJAAAIEgAAECQAACBIAABAkAAAgCABAABBAgAAggQAAAQJAAAIEgAAECQAACBIAABAkAAAgCABAABBAgAAggQAAAQJAAAIEgAAECQAACBIAABAkAAAgCABAABBAgAAggQAAAQJAAAI+gM/HBj6T7FLfgAAAABJRU5ErkJggg==\"></div><div style=\"vertical-align: middle; max-width: 514px; display: flex; justify-content: space-between;\"><div style=\"float: left;\"><div title=\"#ffffffff\" style=\"display: inline-block; width: 1em; height: 1em; margin: 0; vertical-align: middle; border: 1px solid #555; background-color: #ffffffff;\"></div> under</div><div style=\"margin: 0 auto; display: inline-block;\">bad <div title=\"#00000000\" style=\"display: inline-block; width: 1em; height: 1em; margin: 0; vertical-align: middle; border: 1px solid #555; background-color: #00000000;\"></div></div><div style=\"float: right;\">over <div title=\"#260f46ff\" style=\"display: inline-block; width: 1em; height: 1em; margin: 0; vertical-align: middle; border: 1px solid #555; background-color: #260f46ff;\"></div></div>"
      ],
      "text/plain": [
       "<matplotlib.colors.ListedColormap at 0x16c955960>"
      ]
     },
     "execution_count": 42,
     "metadata": {},
     "output_type": "execute_result"
    }
   ],
   "source": [
    "cie3._search_result.ramp.resampled(9)"
   ]
  },
  {
   "cell_type": "code",
   "execution_count": 34,
   "id": "4d094b88",
   "metadata": {},
   "outputs": [
    {
     "data": {
      "image/png": "[encoded data removed]",
      "text/plain": [
       "<Figure size 1500x500 with 5 Axes>"
      ]
     },
     "metadata": {},
     "output_type": "display_data"
    }
   ],
   "source": [
    "cie3._ranked_results[1].plot_all()"
   ]
  },
  {
   "cell_type": "code",
   "execution_count": 32,
   "id": "075d4536",
   "metadata": {},
   "outputs": [
    {
     "data": {
      "image/png": "[encoded data removed]",
      "text/plain": [
       "<Figure size 1500x500 with 5 Axes>"
      ]
     },
     "metadata": {},
     "output_type": "display_data"
    }
   ],
   "source": [
    "cie3._ranked_results[0].plot_all()"
   ]
  },
  {
   "cell_type": "code",
   "execution_count": null,
   "id": "fef099ff",
   "metadata": {},
   "outputs": [],
   "source": []
  },
  {
   "cell_type": "code",
   "execution_count": null,
   "id": "6e5c608d",
   "metadata": {},
   "outputs": [],
   "source": []
  },
  {
   "cell_type": "code",
   "execution_count": null,
   "id": "5e0202e0",
   "metadata": {},
   "outputs": [],
   "source": []
  },
  {
   "cell_type": "code",
   "execution_count": null,
   "id": "8d1912c8",
   "metadata": {},
   "outputs": [],
   "source": []
  },
  {
   "cell_type": "code",
   "execution_count": null,
   "id": "0a1e568a",
   "metadata": {},
   "outputs": [],
   "source": []
  },
  {
   "cell_type": "code",
   "execution_count": null,
   "id": "e9962a3a",
   "metadata": {},
   "outputs": [],
   "source": []
  },
  {
   "cell_type": "code",
   "execution_count": null,
   "id": "55b1735c",
   "metadata": {},
   "outputs": [],
   "source": []
  },
  {
   "cell_type": "code",
   "execution_count": null,
   "id": "66617285",
   "metadata": {},
   "outputs": [],
   "source": []
  },
  {
   "cell_type": "code",
   "execution_count": 483,
   "id": "75165b81",
   "metadata": {},
   "outputs": [
    {
     "data": {
      "application/vnd.jupyter.widget-view+json": {
       "model_id": "f02a06c5624749bbaee8ae1c43aa75b5",
       "version_major": 2,
       "version_minor": 0
      },
      "text/plain": [
       "IntProgress(value=0, layout=Layout(height='36px', margin='8px', width='auto'), max=20000, style=ProgressStyle(…"
      ]
     },
     "metadata": {},
     "output_type": "display_data"
    },
    {
     "data": {
      "application/vnd.jupyter.widget-view+json": {
       "model_id": "9f9a682fdf5a4cf19636a17cd370a4f6",
       "version_major": 2,
       "version_minor": 0
      },
      "text/plain": [
       "GridBox(children=(Output(outputs=({'output_type': 'display_data', 'data': {'text/plain': \"IntText(value=0, des…"
      ]
     },
     "metadata": {},
     "output_type": "display_data"
    }
   ],
   "source": [
    "cie.set_reward_weights([-0.14114951,0.55765981,0.09466557,-0.02095852,-0.51432286,0.0225462\n",
    ",-0.2828992,0.53070293,-0.18159747]); cie._ranker(); cie.search(); cie.options_display"
   ]
  },
  {
   "cell_type": "code",
   "execution_count": 487,
   "id": "a084db52",
   "metadata": {},
   "outputs": [
    {
     "data": {
      "text/plain": [
       "{'id': 336,\n",
       " 'color': '#f88253',\n",
       " 'weight_0': -0.14114951,\n",
       " 'weight_1': 0.55765981,\n",
       " 'weight_2': 0.09466557,\n",
       " 'weight_3': -0.02095852,\n",
       " 'weight_4': -0.51432286,\n",
       " 'weight_5': 0.0225462,\n",
       " 'weight_6': -0.2828992,\n",
       " 'weight_7': 0.53070293,\n",
       " 'weight_8': -0.18159747,\n",
       " '0_reward': 0.17707842606329802,\n",
       " '1_reward': 0.14710244398717817,\n",
       " '2_reward': 0.0800241577612875,\n",
       " '3_reward': -0.20655663024509238,\n",
       " 1: 1,\n",
       " 3: 4,\n",
       " 2: 3,\n",
       " 0: 2}"
      ]
     },
     "execution_count": 487,
     "metadata": {},
     "output_type": "execute_result"
    }
   ],
   "source": [
    "cie.data"
   ]
  },
  {
   "cell_type": "code",
   "execution_count": 488,
   "id": "d91d0b45",
   "metadata": {},
   "outputs": [],
   "source": [
    "cie.save_data()"
   ]
  },
  {
   "cell_type": "markdown",
   "id": "5ce4f165",
   "metadata": {},
   "source": [
    "Blue"
   ]
  },
  {
   "cell_type": "code",
   "execution_count": 473,
   "id": "391cf46c",
   "metadata": {},
   "outputs": [
    {
     "data": {
      "application/vnd.jupyter.widget-view+json": {
       "model_id": "2be874b855fc4290afafb87f01c66846",
       "version_major": 2,
       "version_minor": 0
      },
      "text/plain": [
       "Output()"
      ]
     },
     "metadata": {},
     "output_type": "display_data"
    }
   ],
   "source": [
    "cie2 = Cieran(color='tableau10', draw=draw_kde)"
   ]
  },
  {
   "cell_type": "code",
   "execution_count": 484,
   "id": "d55ecbd3",
   "metadata": {},
   "outputs": [
    {
     "data": {
      "application/vnd.jupyter.widget-view+json": {
       "model_id": "e1ca0822cc7645ecaab0259be89aaa90",
       "version_major": 2,
       "version_minor": 0
      },
      "text/plain": [
       "IntProgress(value=0, layout=Layout(height='36px', margin='8px', width='auto'), max=20000, style=ProgressStyle(…"
      ]
     },
     "metadata": {},
     "output_type": "display_data"
    },
    {
     "data": {
      "application/vnd.jupyter.widget-view+json": {
       "model_id": "ac96ed6d5a3f4f85877a1127a4d38e86",
       "version_major": 2,
       "version_minor": 0
      },
      "text/plain": [
       "GridBox(children=(Output(outputs=({'output_type': 'display_data', 'data': {'text/plain': \"IntText(value=0, des…"
      ]
     },
     "metadata": {},
     "output_type": "display_data"
    }
   ],
   "source": [
    "cie2.set_reward_weights([-0.52996218,-0.10693566,0.11821612,-0.47646873,-0.4251754,0.4127166\n",
    ",-0.26585973,0.14328785,-0.15615835]); cie2._ranker(); cie2.search(); cie2.options_display"
   ]
  },
  {
   "cell_type": "code",
   "execution_count": 489,
   "id": "9ede253d",
   "metadata": {},
   "outputs": [
    {
     "data": {
      "text/plain": [
       "{'id': 9389,\n",
       " 'color': '#447ba0',\n",
       " 'weight_0': -0.52996218,\n",
       " 'weight_1': -0.10693566,\n",
       " 'weight_2': 0.11821612,\n",
       " 'weight_3': -0.47646873,\n",
       " 'weight_4': -0.4251754,\n",
       " 'weight_5': 0.4127166,\n",
       " 'weight_6': -0.26585973,\n",
       " 'weight_7': 0.14328785,\n",
       " 'weight_8': -0.15615835,\n",
       " '0_reward': -0.49623519253959786,\n",
       " '1_reward': -0.5966169790052182,\n",
       " '2_reward': -0.6696701289311261,\n",
       " '3_reward': -0.8074877112259382,\n",
       " 1: 1,\n",
       " 0: 2,\n",
       " 2: 3,\n",
       " 3: 4}"
      ]
     },
     "execution_count": 489,
     "metadata": {},
     "output_type": "execute_result"
    }
   ],
   "source": [
    "cie2.data"
   ]
  },
  {
   "cell_type": "code",
   "execution_count": 44,
   "id": "8227f7b1",
   "metadata": {},
   "outputs": [
    {
     "ename": "AttributeError",
     "evalue": "'Cieran' object has no attribute 'trajectories'",
     "output_type": "error",
     "traceback": [
      "\u001b[0;31m---------------------------------------------------------------------------\u001b[0m",
      "\u001b[0;31mAttributeError\u001b[0m                            Traceback (most recent call last)",
      "Cell \u001b[0;32mIn[44], line 1\u001b[0m\n\u001b[0;32m----> 1\u001b[0m \u001b[43mcie2\u001b[49m\u001b[38;5;241;43m.\u001b[39;49m\u001b[43mtrajectories\u001b[49m[\u001b[38;5;241m0\u001b[39m]\u001b[38;5;241m.\u001b[39mramp\n",
      "\u001b[0;31mAttributeError\u001b[0m: 'Cieran' object has no attribute 'trajectories'"
     ]
    }
   ],
   "source": [
    "cie2.trajectories[0].ramp"
   ]
  },
  {
   "cell_type": "code",
   "execution_count": 490,
   "id": "bd9938be",
   "metadata": {},
   "outputs": [],
   "source": [
    "cie2.save_data()"
   ]
  },
  {
   "cell_type": "code",
   "execution_count": 59,
   "id": "1f2ad8ce",
   "metadata": {},
   "outputs": [
    {
     "data": {
      "text/plain": [
       "[<matplotlib.lines.Line2D at 0x16867ac20>]"
      ]
     },
     "execution_count": 59,
     "metadata": {},
     "output_type": "execute_result"
    },
    {
     "data": {
      "image/png": "[encoded data removed]",
      "text/plain": [
       "<Figure size 640x480 with 1 Axes>"
      ]
     },
     "metadata": {},
     "output_type": "display_data"
    }
   ],
   "source": [
    "plt.plot(cie2.reward_history)"
   ]
  },
  {
   "cell_type": "markdown",
   "id": "02e3583f",
   "metadata": {},
   "source": [
    "Grey"
   ]
  },
  {
   "cell_type": "code",
   "execution_count": 475,
   "id": "9ec8fb46",
   "metadata": {},
   "outputs": [
    {
     "data": {
      "application/vnd.jupyter.widget-view+json": {
       "model_id": "044094f145ec4879a1fae675a7bc4fdb",
       "version_major": 2,
       "version_minor": 0
      },
      "text/plain": [
       "Output()"
      ]
     },
     "metadata": {},
     "output_type": "display_data"
    }
   ],
   "source": [
    "cie3 = Cieran(color='tableau10', draw=draw_kde)"
   ]
  },
  {
   "cell_type": "code",
   "execution_count": 485,
   "id": "f20a6046",
   "metadata": {
    "scrolled": false
   },
   "outputs": [
    {
     "data": {
      "application/vnd.jupyter.widget-view+json": {
       "model_id": "87d30542092a45dc85b3efabc9de34e4",
       "version_major": 2,
       "version_minor": 0
      },
      "text/plain": [
       "IntProgress(value=0, layout=Layout(height='36px', margin='8px', width='auto'), max=20000, style=ProgressStyle(…"
      ]
     },
     "metadata": {},
     "output_type": "display_data"
    },
    {
     "data": {
      "application/vnd.jupyter.widget-view+json": {
       "model_id": "54475a1c806d4664a16d4b0ea1c3dece",
       "version_major": 2,
       "version_minor": 0
      },
      "text/plain": [
       "GridBox(children=(Output(outputs=({'output_type': 'display_data', 'data': {'text/plain': \"IntText(value=0, des…"
      ]
     },
     "metadata": {},
     "output_type": "display_data"
    }
   ],
   "source": [
    "cie3.set_reward_weights([-0.11342384,0.34141245,0.64270947,0.0035271,-0.39419917,0.39930355\n",
    ",0.17071531,0.12401778,0.31324786]); cie3._ranker(); cie3.search(); cie3.options_display"
   ]
  },
  {
   "cell_type": "code",
   "execution_count": 491,
   "id": "6821dc74",
   "metadata": {
    "scrolled": true
   },
   "outputs": [
    {
     "data": {
      "text/plain": [
       "{'id': 8221,\n",
       " 'color': '#c3aba5',\n",
       " 'weight_0': -0.11342384,\n",
       " 'weight_1': 0.34141245,\n",
       " 'weight_2': 0.64270947,\n",
       " 'weight_3': 0.0035271,\n",
       " 'weight_4': -0.39419917,\n",
       " 'weight_5': 0.39930355,\n",
       " 'weight_6': 0.17071531,\n",
       " 'weight_7': 0.12401778,\n",
       " 'weight_8': 0.31324786,\n",
       " '0_reward': 1.5857426511739805,\n",
       " '1_reward': 1.5884958216543648,\n",
       " '2_reward': 1.5019036632214227,\n",
       " '3_reward': 1.2386027404746078,\n",
       " 0: 1,\n",
       " 1: 2,\n",
       " 2: 3,\n",
       " 3: 4}"
      ]
     },
     "execution_count": 491,
     "metadata": {},
     "output_type": "execute_result"
    }
   ],
   "source": [
    "cie3.data"
   ]
  },
  {
   "cell_type": "code",
   "execution_count": 60,
   "id": "b4fc7f34",
   "metadata": {},
   "outputs": [
    {
     "data": {
      "text/plain": [
       "[<matplotlib.lines.Line2D at 0x168e068c0>]"
      ]
     },
     "execution_count": 60,
     "metadata": {},
     "output_type": "execute_result"
    },
    {
     "data": {
      "image/png": "[encoded data removed]",
      "text/plain": [
       "<Figure size 640x480 with 1 Axes>"
      ]
     },
     "metadata": {},
     "output_type": "display_data"
    }
   ],
   "source": [
    "plt.plot(cie3.reward_history)"
   ]
  },
  {
   "cell_type": "code",
   "execution_count": null,
   "id": "8706e10f",
   "metadata": {},
   "outputs": [],
   "source": []
  },
  {
   "cell_type": "code",
   "execution_count": 492,
   "id": "d09d8c7a",
   "metadata": {},
   "outputs": [],
   "source": [
    "cie3.save_data()"
   ]
  },
  {
   "cell_type": "code",
   "execution_count": 58,
   "id": "d4a9c026",
   "metadata": {},
   "outputs": [
    {
     "data": {
      "image/png": "[encoded data removed]",
      "text/plain": [
       "<Figure size 1500x500 with 5 Axes>"
      ]
     },
     "metadata": {},
     "output_type": "display_data"
    }
   ],
   "source": [
    "cie3._search_result.plot_all()"
   ]
  },
  {
   "cell_type": "code",
   "execution_count": 8,
   "id": "84b2ee9b",
   "metadata": {},
   "outputs": [
    {
     "data": {
      "application/vnd.jupyter.widget-view+json": {
       "model_id": "f16832e57c214bc996bbdca77491e2b8",
       "version_major": 2,
       "version_minor": 0
      },
      "text/plain": [
       "GridBox(children=(Output(outputs=({'output_type': 'display_data', 'data': {'text/plain': \"IntText(value=0, des…"
      ]
     },
     "metadata": {},
     "output_type": "display_data"
    }
   ],
   "source": [
    "cie.options_display"
   ]
  },
  {
   "cell_type": "code",
   "execution_count": 8,
   "id": "ba330e01",
   "metadata": {},
   "outputs": [
    {
     "data": {
      "application/vnd.jupyter.widget-view+json": {
       "model_id": "f16832e57c214bc996bbdca77491e2b8",
       "version_major": 2,
       "version_minor": 0
      },
      "text/plain": [
       "GridBox(children=(Output(outputs=({'output_type': 'display_data', 'data': {'text/plain': \"IntText(value=0, des…"
      ]
     },
     "metadata": {},
     "output_type": "display_data"
    }
   ],
   "source": [
    "cie.options_display"
   ]
  },
  {
   "cell_type": "code",
   "execution_count": 5,
   "id": "c37a2078",
   "metadata": {},
   "outputs": [
    {
     "data": {
      "application/vnd.jupyter.widget-view+json": {
       "model_id": "ecf7328abd58451ea88873f32faa2be9",
       "version_major": 2,
       "version_minor": 0
      },
      "text/plain": [
       "IntProgress(value=14, layout=Layout(height='36px', margin='8px', width='auto'), max=14, style=ProgressStyle(ba…"
      ]
     },
     "metadata": {},
     "output_type": "display_data"
    },
    {
     "data": {
      "application/vnd.jupyter.widget-view+json": {
       "model_id": "94b2c2caf949407f8e3eaa657b9cef87",
       "version_major": 2,
       "version_minor": 0
      },
      "text/plain": [
       "IntProgress(value=0, layout=Layout(height='36px', margin='8px', width='auto'), max=20000, style=ProgressStyle(…"
      ]
     },
     "metadata": {},
     "output_type": "display_data"
    }
   ],
   "source": [
    "cie.teach(); cie.search()"
   ]
  },
  {
   "cell_type": "code",
   "execution_count": 6,
   "id": "deb11f29",
   "metadata": {
    "scrolled": true
   },
   "outputs": [
    {
     "data": {
      "application/vnd.jupyter.widget-view+json": {
       "model_id": "8d6fd003c3e14285b91db71e09aef8d2",
       "version_major": 2,
       "version_minor": 0
      },
      "text/plain": [
       "GridBox(children=(Output(outputs=({'output_type': 'display_data', 'data': {'text/plain': \"IntText(value=0, des…"
      ]
     },
     "metadata": {},
     "output_type": "display_data"
    }
   ],
   "source": [
    "cie.options_display"
   ]
  },
  {
   "cell_type": "code",
   "execution_count": 7,
   "id": "efc4d7c1",
   "metadata": {},
   "outputs": [],
   "source": [
    "cie.save_data()"
   ]
  },
  {
   "cell_type": "code",
   "execution_count": 18,
   "id": "b73f1c0a",
   "metadata": {},
   "outputs": [
    {
     "data": {
      "text/plain": [
       "{'id': 1578,\n",
       " 'color': '#447ba0',\n",
       " 'weight_0': -0.5906818791787232,\n",
       " 'weight_1': 0.07371587018938908,\n",
       " 'weight_2': 0.04400671496193058,\n",
       " 'weight_3': 0.2046996649848941,\n",
       " 'weight_4': 0.049650795600926306,\n",
       " 'weight_5': -0.6251847612662439,\n",
       " 'weight_6': -0.35965581684601755,\n",
       " 'weight_7': 0.28123101197755607,\n",
       " 'weight_8': -0.007613696409314502,\n",
       " '0_reward': 0.07965037264215633,\n",
       " '1_reward': -0.03746692064803496,\n",
       " '2_reward': -0.34393420255835716,\n",
       " '3_reward': -0.568729213958498,\n",
       " 1: 2,\n",
       " 2: 1,\n",
       " 0: 3,\n",
       " 3: 4}"
      ]
     },
     "execution_count": 18,
     "metadata": {},
     "output_type": "execute_result"
    }
   ],
   "source": [
    "cie.data"
   ]
  },
  {
   "cell_type": "code",
   "execution_count": null,
   "id": "2d3e2742",
   "metadata": {},
   "outputs": [],
   "source": []
  },
  {
   "cell_type": "code",
   "execution_count": null,
   "id": "a0ef56d6",
   "metadata": {},
   "outputs": [],
   "source": []
  },
  {
   "cell_type": "code",
   "execution_count": null,
   "id": "ccd3a2e9",
   "metadata": {},
   "outputs": [],
   "source": []
  },
  {
   "cell_type": "code",
   "execution_count": 8,
   "id": "bd29c3bd",
   "metadata": {},
   "outputs": [
    {
     "data": {
      "application/vnd.jupyter.widget-view+json": {
       "model_id": "345684bdd2a143debce4f0e16483be50",
       "version_major": 2,
       "version_minor": 0
      },
      "text/plain": [
       "Output()"
      ]
     },
     "metadata": {},
     "output_type": "display_data"
    }
   ],
   "source": [
    "cie2 = Cieran(color='tableau10', draw=draw_kde)"
   ]
  },
  {
   "cell_type": "code",
   "execution_count": 9,
   "id": "0c3f53ec",
   "metadata": {},
   "outputs": [
    {
     "name": "stderr",
     "output_type": "stream",
     "text": [
      "/Users/beach/Projects/cieran/cieran/learning/belief_models.py:132: RuntimeWarning: invalid value encountered in scalar subtract\n",
      "  if np.log(np.random.rand()) < next_logprob - curr_logprob:\n"
     ]
    },
    {
     "data": {
      "application/vnd.jupyter.widget-view+json": {
       "model_id": "00f8720f92074a04a859579064cb6e96",
       "version_major": 2,
       "version_minor": 0
      },
      "text/plain": [
       "IntProgress(value=14, layout=Layout(height='36px', margin='8px', width='auto'), max=14, style=ProgressStyle(ba…"
      ]
     },
     "metadata": {},
     "output_type": "display_data"
    },
    {
     "data": {
      "application/vnd.jupyter.widget-view+json": {
       "model_id": "f7a07e008fa243e48e89b5ad32412ea6",
       "version_major": 2,
       "version_minor": 0
      },
      "text/plain": [
       "IntProgress(value=0, layout=Layout(height='36px', margin='8px', width='auto'), max=20000, style=ProgressStyle(…"
      ]
     },
     "metadata": {},
     "output_type": "display_data"
    }
   ],
   "source": [
    "cie2.teach(); cie2.search()"
   ]
  },
  {
   "cell_type": "code",
   "execution_count": 10,
   "id": "752a9422",
   "metadata": {},
   "outputs": [
    {
     "data": {
      "application/vnd.jupyter.widget-view+json": {
       "model_id": "7bc7e0c8d3174eef967502a99de0ce31",
       "version_major": 2,
       "version_minor": 0
      },
      "text/plain": [
       "GridBox(children=(Output(outputs=({'output_type': 'display_data', 'data': {'text/plain': \"IntText(value=0, des…"
      ]
     },
     "metadata": {},
     "output_type": "display_data"
    }
   ],
   "source": [
    "cie2.options_display"
   ]
  },
  {
   "cell_type": "code",
   "execution_count": 11,
   "id": "a5f68f11",
   "metadata": {},
   "outputs": [],
   "source": [
    "cie2.save_data()"
   ]
  },
  {
   "cell_type": "code",
   "execution_count": 17,
   "id": "1efc75ad",
   "metadata": {},
   "outputs": [
    {
     "data": {
      "text/plain": [
       "{'id': 5633,\n",
       " 'color': '#5fa145',\n",
       " 'weight_0': -0.5648235095521942,\n",
       " 'weight_1': 0.23576736627570238,\n",
       " 'weight_2': 0.1685388747235214,\n",
       " 'weight_3': -0.07185479748512193,\n",
       " 'weight_4': 0.013718247226865718,\n",
       " 'weight_5': 0.3110142301576103,\n",
       " 'weight_6': -0.20753218621983477,\n",
       " 'weight_7': 0.6610954440661263,\n",
       " 'weight_8': -0.12159297550508949,\n",
       " '0_reward': 1.0056797580156498,\n",
       " '1_reward': 0.9447823991652967,\n",
       " '2_reward': 0.7867867918719643,\n",
       " '3_reward': 0.5932599182085148,\n",
       " 0: 1,\n",
       " 1: 2,\n",
       " 2: 3,\n",
       " 3: 4}"
      ]
     },
     "execution_count": 17,
     "metadata": {},
     "output_type": "execute_result"
    }
   ],
   "source": [
    "cie2.data"
   ]
  },
  {
   "cell_type": "code",
   "execution_count": null,
   "id": "33227097",
   "metadata": {},
   "outputs": [],
   "source": []
  },
  {
   "cell_type": "code",
   "execution_count": null,
   "id": "081b5276",
   "metadata": {},
   "outputs": [],
   "source": []
  },
  {
   "cell_type": "code",
   "execution_count": null,
   "id": "017a05c2",
   "metadata": {},
   "outputs": [],
   "source": []
  },
  {
   "cell_type": "code",
   "execution_count": 12,
   "id": "46cbc45d",
   "metadata": {},
   "outputs": [
    {
     "data": {
      "application/vnd.jupyter.widget-view+json": {
       "model_id": "5a048a86a3084d04b13bfd911550b17b",
       "version_major": 2,
       "version_minor": 0
      },
      "text/plain": [
       "Output()"
      ]
     },
     "metadata": {},
     "output_type": "display_data"
    }
   ],
   "source": [
    "cie3 = Cieran(color='tableau10', draw=draw_kde)"
   ]
  },
  {
   "cell_type": "code",
   "execution_count": 13,
   "id": "7ffb0494",
   "metadata": {},
   "outputs": [
    {
     "data": {
      "application/vnd.jupyter.widget-view+json": {
       "model_id": "4798ef54c5874c85b767c46d0a9d57e1",
       "version_major": 2,
       "version_minor": 0
      },
      "text/plain": [
       "IntProgress(value=14, layout=Layout(height='36px', margin='8px', width='auto'), max=14, style=ProgressStyle(ba…"
      ]
     },
     "metadata": {},
     "output_type": "display_data"
    },
    {
     "data": {
      "application/vnd.jupyter.widget-view+json": {
       "model_id": "5489fba0f81a4c24b766cb4f01db30cd",
       "version_major": 2,
       "version_minor": 0
      },
      "text/plain": [
       "IntProgress(value=0, layout=Layout(height='36px', margin='8px', width='auto'), max=20000, style=ProgressStyle(…"
      ]
     },
     "metadata": {},
     "output_type": "display_data"
    }
   ],
   "source": [
    "cie3.teach(); cie3.search()"
   ]
  },
  {
   "cell_type": "code",
   "execution_count": 14,
   "id": "00d56302",
   "metadata": {},
   "outputs": [
    {
     "data": {
      "application/vnd.jupyter.widget-view+json": {
       "model_id": "d41cf383a6774b7a9c8ea286e4ea9712",
       "version_major": 2,
       "version_minor": 0
      },
      "text/plain": [
       "GridBox(children=(Output(outputs=({'output_type': 'display_data', 'data': {'text/plain': \"IntText(value=0, des…"
      ]
     },
     "metadata": {},
     "output_type": "display_data"
    }
   ],
   "source": [
    "cie3.options_display"
   ]
  },
  {
   "cell_type": "code",
   "execution_count": 15,
   "id": "b7762b2b",
   "metadata": {},
   "outputs": [],
   "source": [
    "cie3.save_data()"
   ]
  },
  {
   "cell_type": "code",
   "execution_count": 16,
   "id": "a0d42db4",
   "metadata": {},
   "outputs": [
    {
     "data": {
      "text/plain": [
       "{'id': 5342,\n",
       " 'color': '#7dbcc1',\n",
       " 'weight_0': -0.5083655728786045,\n",
       " 'weight_1': -0.36822636740501485,\n",
       " 'weight_2': -0.06030038044954369,\n",
       " 'weight_3': -0.365434735906208,\n",
       " 'weight_4': 0.07776123394306587,\n",
       " 'weight_5': 0.05033265860100957,\n",
       " 'weight_6': -0.2124391178369569,\n",
       " 'weight_7': -0.6404224654924595,\n",
       " 'weight_8': -0.07031077761862942,\n",
       " '0_reward': -1.291651977573099,\n",
       " '1_reward': -1.387827202403754,\n",
       " '2_reward': -1.5283078152083296,\n",
       " '3_reward': -1.5950844269179094,\n",
       " 1: 1,\n",
       " 2: 2,\n",
       " 3: 3,\n",
       " 0: 4}"
      ]
     },
     "execution_count": 16,
     "metadata": {},
     "output_type": "execute_result"
    }
   ],
   "source": [
    "cie3.data"
   ]
  },
  {
   "cell_type": "code",
   "execution_count": null,
   "id": "8028383f",
   "metadata": {},
   "outputs": [],
   "source": []
  },
  {
   "cell_type": "code",
   "execution_count": null,
   "id": "9c00db10",
   "metadata": {},
   "outputs": [],
   "source": []
  },
  {
   "cell_type": "code",
   "execution_count": null,
   "id": "44bc4bea",
   "metadata": {},
   "outputs": [],
   "source": []
  },
  {
   "cell_type": "code",
   "execution_count": null,
   "id": "8363d313",
   "metadata": {},
   "outputs": [],
   "source": []
  },
  {
   "cell_type": "code",
   "execution_count": null,
   "id": "02fe0409",
   "metadata": {},
   "outputs": [],
   "source": []
  },
  {
   "cell_type": "code",
   "execution_count": null,
   "id": "98043a21",
   "metadata": {},
   "outputs": [],
   "source": []
  },
  {
   "cell_type": "code",
   "execution_count": null,
   "id": "99ebc314",
   "metadata": {},
   "outputs": [],
   "source": []
  },
  {
   "cell_type": "code",
   "execution_count": null,
   "id": "fc1bec62",
   "metadata": {},
   "outputs": [],
   "source": []
  },
  {
   "cell_type": "code",
   "execution_count": null,
   "id": "a3dd0755",
   "metadata": {},
   "outputs": [],
   "source": []
  },
  {
   "cell_type": "code",
   "execution_count": null,
   "id": "646b8691",
   "metadata": {},
   "outputs": [],
   "source": []
  },
  {
   "cell_type": "code",
   "execution_count": 14,
   "id": "3d34ffa4",
   "metadata": {},
   "outputs": [
    {
     "data": {
      "application/vnd.jupyter.widget-view+json": {
       "model_id": "33d4bfedb99046eabab511c747b0f1de",
       "version_major": 2,
       "version_minor": 0
      },
      "text/plain": [
       "GridBox(children=(Output(outputs=({'output_type': 'display_data', 'data': {'text/plain': \"IntText(value=0, des…"
      ]
     },
     "metadata": {},
     "output_type": "display_data"
    }
   ],
   "source": [
    "cie.options_display"
   ]
  },
  {
   "cell_type": "code",
   "execution_count": 15,
   "id": "b73e7d90",
   "metadata": {},
   "outputs": [],
   "source": [
    "cie.save_data()"
   ]
  },
  {
   "cell_type": "code",
   "execution_count": 16,
   "id": "ad2e2e1c",
   "metadata": {},
   "outputs": [
    {
     "data": {
      "application/vnd.jupyter.widget-view+json": {
       "model_id": "8349327fbb7d42d8a58f32a0d1f0179d",
       "version_major": 2,
       "version_minor": 0
      },
      "text/plain": [
       "Output()"
      ]
     },
     "metadata": {},
     "output_type": "display_data"
    }
   ],
   "source": [
    "cie2 = Cieran(color='tableau10', draw=draw_kde)"
   ]
  },
  {
   "cell_type": "code",
   "execution_count": 17,
   "id": "89b2aca9",
   "metadata": {},
   "outputs": [
    {
     "data": {
      "application/vnd.jupyter.widget-view+json": {
       "model_id": "c21ddf74046841289622fed7eba01644",
       "version_major": 2,
       "version_minor": 0
      },
      "text/plain": [
       "IntProgress(value=14, layout=Layout(height='36px', margin='8px', width='auto'), max=14, style=ProgressStyle(ba…"
      ]
     },
     "metadata": {},
     "output_type": "display_data"
    },
    {
     "data": {
      "application/vnd.jupyter.widget-view+json": {
       "model_id": "e4a996865c744c1bab025f02ff39a939",
       "version_major": 2,
       "version_minor": 0
      },
      "text/plain": [
       "IntProgress(value=0, layout=Layout(height='36px', margin='8px', width='auto'), max=20000, style=ProgressStyle(…"
      ]
     },
     "metadata": {},
     "output_type": "display_data"
    }
   ],
   "source": [
    "cie2.teach(); cie2.search()"
   ]
  },
  {
   "cell_type": "code",
   "execution_count": 18,
   "id": "1d7bc128",
   "metadata": {},
   "outputs": [
    {
     "data": {
      "application/vnd.jupyter.widget-view+json": {
       "model_id": "e394918accc84446b69c6a2f628ff135",
       "version_major": 2,
       "version_minor": 0
      },
      "text/plain": [
       "GridBox(children=(Output(outputs=({'output_type': 'display_data', 'data': {'text/plain': \"IntText(value=0, des…"
      ]
     },
     "metadata": {},
     "output_type": "display_data"
    }
   ],
   "source": [
    "cie2.options_display"
   ]
  },
  {
   "cell_type": "code",
   "execution_count": 19,
   "id": "e3061766",
   "metadata": {},
   "outputs": [],
   "source": [
    "cie2.save_data()"
   ]
  },
  {
   "cell_type": "code",
   "execution_count": null,
   "id": "c7228ffc",
   "metadata": {},
   "outputs": [],
   "source": []
  },
  {
   "cell_type": "code",
   "execution_count": 20,
   "id": "4c4bfee8",
   "metadata": {},
   "outputs": [
    {
     "data": {
      "application/vnd.jupyter.widget-view+json": {
       "model_id": "3a9250364ff5411cb563c56584159f93",
       "version_major": 2,
       "version_minor": 0
      },
      "text/plain": [
       "Output()"
      ]
     },
     "metadata": {},
     "output_type": "display_data"
    }
   ],
   "source": [
    "cie3 = Cieran(color='tableau10', draw=draw_kde)"
   ]
  },
  {
   "cell_type": "code",
   "execution_count": 21,
   "id": "b0b35647",
   "metadata": {},
   "outputs": [
    {
     "data": {
      "application/vnd.jupyter.widget-view+json": {
       "model_id": "b80979db379d4b4caad9651ba094f134",
       "version_major": 2,
       "version_minor": 0
      },
      "text/plain": [
       "IntProgress(value=14, layout=Layout(height='36px', margin='8px', width='auto'), max=14, style=ProgressStyle(ba…"
      ]
     },
     "metadata": {},
     "output_type": "display_data"
    },
    {
     "data": {
      "application/vnd.jupyter.widget-view+json": {
       "model_id": "626f5e1ba4804f1a8573a0ca1736de79",
       "version_major": 2,
       "version_minor": 0
      },
      "text/plain": [
       "IntProgress(value=0, layout=Layout(height='36px', margin='8px', width='auto'), max=20000, style=ProgressStyle(…"
      ]
     },
     "metadata": {},
     "output_type": "display_data"
    }
   ],
   "source": [
    "cie3.teach(); cie3.search()"
   ]
  },
  {
   "cell_type": "code",
   "execution_count": 22,
   "id": "3561666e",
   "metadata": {},
   "outputs": [
    {
     "data": {
      "application/vnd.jupyter.widget-view+json": {
       "model_id": "7e118e89ef0f4b79adbfbac2a1b2f208",
       "version_major": 2,
       "version_minor": 0
      },
      "text/plain": [
       "GridBox(children=(Output(outputs=({'output_type': 'display_data', 'data': {'text/plain': \"IntText(value=0, des…"
      ]
     },
     "metadata": {},
     "output_type": "display_data"
    }
   ],
   "source": [
    "cie3.options_display"
   ]
  },
  {
   "cell_type": "code",
   "execution_count": 23,
   "id": "21458154",
   "metadata": {},
   "outputs": [],
   "source": [
    "cie3.save_data()"
   ]
  },
  {
   "cell_type": "code",
   "execution_count": null,
   "id": "2a6d36ee",
   "metadata": {},
   "outputs": [],
   "source": []
  },
  {
   "cell_type": "code",
   "execution_count": 24,
   "id": "efaaf2f0",
   "metadata": {},
   "outputs": [
    {
     "data": {
      "image/png": "[encoded data removed]",
      "text/html": [
       "<div style=\"vertical-align: middle;\"><strong>from_list</strong> </div><div class=\"cmap\"><img alt=\"from_list colormap\" title=\"from_list\" style=\"border: 1px solid #555;\" src=\"data:image/png;base64,iVBORw0KGgoAAAANSUhEUgAAAgAAAABACAYAAABsv8+/AAAAGHRFWHRUaXRsZQBmcm9tX2xpc3QgY29sb3JtYXBDL89FAAAAHnRFWHREZXNjcmlwdGlvbgBmcm9tX2xpc3QgY29sb3JtYXABtCnOAAAAMHRFWHRBdXRob3IATWF0cGxvdGxpYiB2My43LjAsIGh0dHBzOi8vbWF0cGxvdGxpYi5vcmePJGhDAAAAMnRFWHRTb2Z0d2FyZQBNYXRwbG90bGliIHYzLjcuMCwgaHR0cHM6Ly9tYXRwbG90bGliLm9yZ6GC92QAAAH8SURBVHic7dZBduMgFEVBkv2vGTKIbEsHEMjTVzVJDhHoo+7B/WmttXI4/Vpqe/38rL3+Xj9LpdU2fe787HWtHWtlsHZ6ru6eM5i7zuaZv3t411q6tfme+bvrYO9lz3lt8E2371/vzx5/s2PtdNfxv/vi/8L7mz3/9ut7Dd6znHE+w3JPvZ/n7v6rGVf3b4N5xuc8n2e89mSefs/w7DI6p9+zvlc/Q9l8zzf3f50321N2z1nO+B5ya8ZH89y9b3mHvRn/f69fn/15rnbPrd593nP3vsuzy3n6u2z/ffFN9s/pv8Vo7/Xvq28xv38ppfwWACCOAACAQAIAAAIJAAAIJAAAIJAAAIBAAgAAAgkAAAgkAAAgkAAAgEACAAACCQAACCQAACCQAACAQAIAAAIJAAAIJAAAIJAAAIBAAgAAAgkAAAgkAAAgkAAAgEACAAACCQAACCQAACCQAACAQAIAAAIJAAAIJAAAIJAAAIBAAgAAAgkAAAgkAAAgkAAAgEACAAACCQAACCQAACCQAACAQAIAAAIJAAAIJAAAIJAAAIBAAgAAAgkAAAgkAAAgkAAAgEACAAACCQAACCQAACCQAACAQAIAAAIJAAAIJAAAIJAAAIBAAgAAAgkAAAgkAAAgkAAAgEACAAACCQAACCQAACCQAACAQAIAAAL9AT2pHzVUkDAAAAAAAElFTkSuQmCC\"></div><div style=\"vertical-align: middle; max-width: 514px; display: flex; justify-content: space-between;\"><div style=\"float: left;\"><div title=\"#ffffffff\" style=\"display: inline-block; width: 1em; height: 1em; margin: 0; vertical-align: middle; border: 1px solid #555; background-color: #ffffffff;\"></div> under</div><div style=\"margin: 0 auto; display: inline-block;\">bad <div title=\"#00000000\" style=\"display: inline-block; width: 1em; height: 1em; margin: 0; vertical-align: middle; border: 1px solid #555; background-color: #00000000;\"></div></div><div style=\"float: right;\">over <div title=\"#1b334aff\" style=\"display: inline-block; width: 1em; height: 1em; margin: 0; vertical-align: middle; border: 1px solid #555; background-color: #1b334aff;\"></div></div>"
      ],
      "text/plain": [
       "<matplotlib.colors.ListedColormap at 0x29119b280>"
      ]
     },
     "execution_count": 24,
     "metadata": {},
     "output_type": "execute_result"
    }
   ],
   "source": [
    "cie.search_result()"
   ]
  },
  {
   "cell_type": "code",
   "execution_count": 25,
   "id": "a03a6b18",
   "metadata": {},
   "outputs": [
    {
     "data": {
      "image/png": "[encoded data removed]",
      "text/html": [
       "<div style=\"vertical-align: middle;\"><strong>from_list</strong> </div><div class=\"cmap\"><img alt=\"from_list colormap\" title=\"from_list\" style=\"border: 1px solid #555;\" src=\"data:image/png;base64,iVBORw0KGgoAAAANSUhEUgAAAgAAAABACAYAAABsv8+/AAAAGHRFWHRUaXRsZQBmcm9tX2xpc3QgY29sb3JtYXBDL89FAAAAHnRFWHREZXNjcmlwdGlvbgBmcm9tX2xpc3QgY29sb3JtYXABtCnOAAAAMHRFWHRBdXRob3IATWF0cGxvdGxpYiB2My43LjAsIGh0dHBzOi8vbWF0cGxvdGxpYi5vcmePJGhDAAAAMnRFWHRTb2Z0d2FyZQBNYXRwbG90bGliIHYzLjcuMCwgaHR0cHM6Ly9tYXRwbG90bGliLm9yZ6GC92QAAAI4SURBVHic7dZBUoQwEAXQ4P2vDHExAybScXD939tIdXcSUir1t957b29HP9r1fAzP7/pc6/Xs+3m1117Uq7Pm/l729+rcqbbf+uNzH/p92LcPs+28Zy9qY32stZ/nbZrtD/utbedMVXsyW7zPNpZW73DNfjhrqG9P3rE/u8/y3KL+bPb4977L/nH/Xc/94tyjPreaLWu/6+fzsl/sNfw99+o+Y3+x7txv/t8o1hVrbuuK2V7dcZj51H8N9Xt/L9Z9uOPqPtM77Pf66hvSiz2Ws+87HFOtnj2/wVN/+n72W/2ofme/69ds/Y2/3nFx1riuH8Ve0773+rPZ1899NXvt1cr+vO5Zf5yZ+u3ef82s36u11vZyzeLcdp774D5/vMu4V2utfTUAII4AAACBBAAACCQAAEAgAQAAAgkAABBIAACAQAIAAAQSAAAgkAAAAIEEAAAIJAAAQCABAAACCQAAEEgAAIBAAgAABBIAACCQAAAAgQQAAAgkAABAIAEAAAIJAAAQSAAAgEACAAAEEgAAIJAAAACBBAAACCQAAEAgAQAAAgkAABBIAACAQAIAAAQSAAAgkAAAAIEEAAAIJAAAQCABAAACCQAAEEgAAIBAAgAABBIAACCQAAAAgQQAAAgkAABAIAEAAAIJAAAQSAAAgEACAAAEEgAAIJAAAACBBAAACCQAAEAgAQAAAgkAABBIAACAQAIAAAQSAAAgkAAAAIEEAAAIJAAAQCABAAACCQAAEEgAAIBA38oQvAzJDJ1sAAAAAElFTkSuQmCC\"></div><div style=\"vertical-align: middle; max-width: 514px; display: flex; justify-content: space-between;\"><div style=\"float: left;\"><div title=\"#ffffffff\" style=\"display: inline-block; width: 1em; height: 1em; margin: 0; vertical-align: middle; border: 1px solid #555; background-color: #ffffffff;\"></div> under</div><div style=\"margin: 0 auto; display: inline-block;\">bad <div title=\"#00000000\" style=\"display: inline-block; width: 1em; height: 1em; margin: 0; vertical-align: middle; border: 1px solid #555; background-color: #00000000;\"></div></div><div style=\"float: right;\">over <div title=\"#630d0eff\" style=\"display: inline-block; width: 1em; height: 1em; margin: 0; vertical-align: middle; border: 1px solid #555; background-color: #630d0eff;\"></div></div>"
      ],
      "text/plain": [
       "<matplotlib.colors.ListedColormap at 0x287e612a0>"
      ]
     },
     "execution_count": 25,
     "metadata": {},
     "output_type": "execute_result"
    }
   ],
   "source": [
    "cie2.search_result()"
   ]
  },
  {
   "cell_type": "code",
   "execution_count": 26,
   "id": "ce4cd161",
   "metadata": {},
   "outputs": [
    {
     "data": {
      "image/png": "[encoded data removed]",
      "text/html": [
       "<div style=\"vertical-align: middle;\"><strong>from_list</strong> </div><div class=\"cmap\"><img alt=\"from_list colormap\" title=\"from_list\" style=\"border: 1px solid #555;\" src=\"data:image/png;base64,iVBORw0KGgoAAAANSUhEUgAAAgAAAABACAYAAABsv8+/AAAAGHRFWHRUaXRsZQBmcm9tX2xpc3QgY29sb3JtYXBDL89FAAAAHnRFWHREZXNjcmlwdGlvbgBmcm9tX2xpc3QgY29sb3JtYXABtCnOAAAAMHRFWHRBdXRob3IATWF0cGxvdGxpYiB2My43LjAsIGh0dHBzOi8vbWF0cGxvdGxpYi5vcmePJGhDAAAAMnRFWHRTb2Z0d2FyZQBNYXRwbG90bGliIHYzLjcuMCwgaHR0cHM6Ly9tYXRwbG90bGliLm9yZ6GC92QAAAI2SURBVHic7dbBcqswEEXBIf//y0hZxI5FGExSWd7uFaWRMI9np84255z1tFzWcvm9vq5Vs/f2/MV83Mwf6/NP5+e/5nM0e8c4n/nafD6z7n3M17V5uNc47quqOfbz+au9s9nbff7hup/Peb7/er3V+3n9c/77+/fv5/X8F/Pne13ms5mv7399v3Pc7B3n+17Ov89f/L8382rm9Yf5tr6X0XxX1r17d//1NzKu15b19re0rM/D+dfW7vzhJ/xcH83aj72vr9U8rR0+d/385nw1X8Xfzbeqqtr29/PjM22nvevabM43f5a+rmc3f92r+xM5musxz2eO8/l2frl3+afsj/XjmdnM17Xz3v3wLONmvtyrbubd59fN/et8/nZeV883Lp95vb6bV1V9FAAQRwAAQCABAACBBAAABBIAABBIAABAIAEAAIEEAAAEEgAAEEgAAEAgAQAAgQQAAAQSAAAQSAAAQCABAACBBAAABBIAABBIAABAIAEAAIEEAAAEEgAAEEgAAEAgAQAAgQQAAAQSAAAQSAAAQCABAACBBAAABBIAABBIAABAIAEAAIEEAAAEEgAAEEgAAEAgAQAAgQQAAAQSAAAQSAAAQCABAACBBAAABBIAABBIAABAIAEAAIEEAAAEEgAAEEgAAEAgAQAAgQQAAAQSAAAQSAAAQCABAACBBAAABBIAABBIAABAIAEAAIEEAAAEEgAAEEgAAEAgAQAAgQQAAAQSAAAQSAAAQCABAACBPgHlp5YQGcw+PgAAAABJRU5ErkJggg==\"></div><div style=\"vertical-align: middle; max-width: 514px; display: flex; justify-content: space-between;\"><div style=\"float: left;\"><div title=\"#ffffffff\" style=\"display: inline-block; width: 1em; height: 1em; margin: 0; vertical-align: middle; border: 1px solid #555; background-color: #ffffffff;\"></div> under</div><div style=\"margin: 0 auto; display: inline-block;\">bad <div title=\"#00000000\" style=\"display: inline-block; width: 1em; height: 1em; margin: 0; vertical-align: middle; border: 1px solid #555; background-color: #00000000;\"></div></div><div style=\"float: right;\">over <div title=\"#650419ff\" style=\"display: inline-block; width: 1em; height: 1em; margin: 0; vertical-align: middle; border: 1px solid #555; background-color: #650419ff;\"></div></div>"
      ],
      "text/plain": [
       "<matplotlib.colors.ListedColormap at 0x28eacc8b0>"
      ]
     },
     "execution_count": 26,
     "metadata": {},
     "output_type": "execute_result"
    }
   ],
   "source": [
    "cie3.search_result()"
   ]
  },
  {
   "cell_type": "code",
   "execution_count": 29,
   "id": "6471d28b",
   "metadata": {},
   "outputs": [
    {
     "data": {
      "application/vnd.jupyter.widget-view+json": {
       "model_id": "3c9c8473ab1345d2a29caddd68615bf7",
       "version_major": 2,
       "version_minor": 0
      },
      "text/plain": [
       "GridBox(children=(Output(outputs=({'output_type': 'display_data', 'data': {'text/plain': \"IntText(value=0, des…"
      ]
     },
     "metadata": {},
     "output_type": "display_data"
    }
   ],
   "source": [
    "cie3.options(65)"
   ]
  },
  {
   "cell_type": "code",
   "execution_count": null,
   "id": "53935e85",
   "metadata": {},
   "outputs": [],
   "source": []
  },
  {
   "cell_type": "code",
   "execution_count": null,
   "id": "c3b690a2",
   "metadata": {},
   "outputs": [],
   "source": []
  },
  {
   "cell_type": "code",
   "execution_count": null,
   "id": "eaf125ec",
   "metadata": {},
   "outputs": [],
   "source": []
  },
  {
   "cell_type": "code",
   "execution_count": null,
   "id": "f769fcb9",
   "metadata": {},
   "outputs": [],
   "source": []
  },
  {
   "cell_type": "code",
   "execution_count": null,
   "id": "6939dd1b",
   "metadata": {},
   "outputs": [],
   "source": []
  },
  {
   "cell_type": "code",
   "execution_count": null,
   "id": "26a13063",
   "metadata": {},
   "outputs": [],
   "source": []
  },
  {
   "cell_type": "code",
   "execution_count": 30,
   "id": "4447b3ff",
   "metadata": {},
   "outputs": [
    {
     "data": {
      "text/plain": [
       "{'id': 7984,\n",
       " 'color': '#447ba0',\n",
       " 'weight_0': -0.3382665753170108,\n",
       " 'weight_1': 0.5208113849432828,\n",
       " 'weight_2': 0.3132486864248733,\n",
       " 'weight_3': -0.04247411546328144,\n",
       " 'weight_4': -0.3307678915956706,\n",
       " 'weight_5': 0.47864741530090793,\n",
       " 'weight_6': 0.38280475947737624,\n",
       " 'weight_7': 0.1260077071075125,\n",
       " 'weight_8': -0.11607869266818183,\n",
       " '0_reward': 1.3585623848865258,\n",
       " '1_reward': 1.3574922129520879,\n",
       " '2_reward': 1.2870846072475601,\n",
       " '3_reward': 1.0141421131879929,\n",
       " 0: 1,\n",
       " 1: 2,\n",
       " 2: 3,\n",
       " 3: 4}"
      ]
     },
     "execution_count": 30,
     "metadata": {},
     "output_type": "execute_result"
    }
   ],
   "source": [
    "cie.data"
   ]
  },
  {
   "cell_type": "code",
   "execution_count": 31,
   "id": "789d017a",
   "metadata": {},
   "outputs": [
    {
     "data": {
      "text/plain": [
       "{'id': 5267,\n",
       " 'color': '#e15956',\n",
       " 'weight_0': -0.39202057377442634,\n",
       " 'weight_1': 0.6607878312002909,\n",
       " 'weight_2': 0.47368248164903587,\n",
       " 'weight_3': 0.18949267122568722,\n",
       " 'weight_4': -0.01403949836973418,\n",
       " 'weight_5': 0.3344080584901372,\n",
       " 'weight_6': -0.03359403105646505,\n",
       " 'weight_7': 0.15100012010219266,\n",
       " 'weight_8': -0.11593659350970018,\n",
       " '0_reward': 1.6881643561241715,\n",
       " '1_reward': 1.6669934504766875,\n",
       " '2_reward': 1.5522852461871928,\n",
       " '3_reward': 1.1986605671632065,\n",
       " 2: 1,\n",
       " 1: 2,\n",
       " 0: 3,\n",
       " 3: 4}"
      ]
     },
     "execution_count": 31,
     "metadata": {},
     "output_type": "execute_result"
    }
   ],
   "source": [
    "cie2.data"
   ]
  },
  {
   "cell_type": "code",
   "execution_count": 32,
   "id": "4cb31e11",
   "metadata": {},
   "outputs": [
    {
     "data": {
      "text/plain": [
       "{'id': 2095,\n",
       " 'color': '#f88253',\n",
       " 'weight_0': -0.420618360031246,\n",
       " 'weight_1': 0.572063400404304,\n",
       " 'weight_2': 0.2249482498992657,\n",
       " 'weight_3': 0.11186989918822694,\n",
       " 'weight_4': -0.1336497264484848,\n",
       " 'weight_5': 0.16609960967829993,\n",
       " 'weight_6': -0.28334586215625274,\n",
       " 'weight_7': 0.13985875643256576,\n",
       " 'weight_8': -0.5361066988747586,\n",
       " '0_reward': 0.4986166420308447,\n",
       " '1_reward': 0.4792817626250801,\n",
       " '2_reward': 0.3308817540829427,\n",
       " '3_reward': -0.027671635895032368,\n",
       " 2: 1,\n",
       " 0: 2,\n",
       " 1: 3,\n",
       " 3: 4}"
      ]
     },
     "execution_count": 32,
     "metadata": {},
     "output_type": "execute_result"
    }
   ],
   "source": [
    "cie3.data"
   ]
  },
  {
   "cell_type": "code",
   "execution_count": null,
   "id": "00656184",
   "metadata": {},
   "outputs": [],
   "source": []
  },
  {
   "cell_type": "code",
   "execution_count": null,
   "id": "8683fa72",
   "metadata": {},
   "outputs": [],
   "source": []
  },
  {
   "cell_type": "code",
   "execution_count": null,
   "id": "839ff12e",
   "metadata": {},
   "outputs": [],
   "source": []
  },
  {
   "cell_type": "code",
   "execution_count": 6,
   "id": "f1925b72",
   "metadata": {
    "scrolled": true
   },
   "outputs": [
    {
     "data": {
      "application/vnd.jupyter.widget-view+json": {
       "model_id": "3f4ad037e07140b5a3f33c02c88a6e7b",
       "version_major": 2,
       "version_minor": 0
      },
      "text/plain": [
       "GridBox(children=(Output(outputs=({'output_type': 'display_data', 'data': {'text/plain': \"IntText(value=0, des…"
      ]
     },
     "metadata": {},
     "output_type": "display_data"
    }
   ],
   "source": [
    "cie.options_display"
   ]
  },
  {
   "cell_type": "code",
   "execution_count": null,
   "id": "3c432165",
   "metadata": {},
   "outputs": [],
   "source": []
  },
  {
   "cell_type": "code",
   "execution_count": null,
   "id": "60500704",
   "metadata": {},
   "outputs": [],
   "source": []
  },
  {
   "cell_type": "code",
   "execution_count": null,
   "id": "31867258",
   "metadata": {},
   "outputs": [],
   "source": []
  },
  {
   "cell_type": "code",
   "execution_count": null,
   "id": "6f2c460d",
   "metadata": {},
   "outputs": [],
   "source": []
  },
  {
   "cell_type": "code",
   "execution_count": null,
   "id": "dd11bc2b",
   "metadata": {},
   "outputs": [],
   "source": []
  },
  {
   "cell_type": "code",
   "execution_count": null,
   "id": "770d0709",
   "metadata": {},
   "outputs": [],
   "source": []
  },
  {
   "cell_type": "code",
   "execution_count": null,
   "id": "51642910",
   "metadata": {},
   "outputs": [],
   "source": []
  },
  {
   "cell_type": "code",
   "execution_count": null,
   "id": "0e88603e",
   "metadata": {},
   "outputs": [],
   "source": []
  },
  {
   "cell_type": "code",
   "execution_count": null,
   "id": "e85cbf9b",
   "metadata": {},
   "outputs": [],
   "source": []
  },
  {
   "cell_type": "code",
   "execution_count": null,
   "id": "f14f5e62",
   "metadata": {},
   "outputs": [],
   "source": []
  },
  {
   "cell_type": "code",
   "execution_count": null,
   "id": "8ed6cf7e",
   "metadata": {},
   "outputs": [],
   "source": []
  },
  {
   "cell_type": "code",
   "execution_count": 7,
   "id": "5e97f2ab",
   "metadata": {},
   "outputs": [],
   "source": [
    "cie.save_data()"
   ]
  },
  {
   "cell_type": "code",
   "execution_count": 8,
   "id": "fb471d2b",
   "metadata": {},
   "outputs": [
    {
     "data": {
      "text/plain": [
       "{'id': 6223,\n",
       " 'choice': {},\n",
       " 'color': '#c3aba5',\n",
       " 'block': 3,\n",
       " 'weights': array([ 0.0766082 ,  0.02378549,  0.3562885 , -0.05875298, -0.12879361,\n",
       "        -0.19116205,  0.50145461, -0.71435754,  0.21972228]),\n",
       " 'weight_0': 0.0766081965891439,\n",
       " 'weight_1': 0.023785487270796313,\n",
       " 'weight_2': 0.35628849811526925,\n",
       " 'weight_3': -0.05875297800350842,\n",
       " 'weight_4': -0.12879360505814647,\n",
       " 'weight_5': -0.19116204973549877,\n",
       " 'weight_6': 0.5014546128764013,\n",
       " 'weight_7': -0.7143575405157647,\n",
       " 'weight_8': 0.21972228395734023,\n",
       " '0_reward': 0.1170450023852427,\n",
       " '1_reward': 0.07876447996117696,\n",
       " '2_reward': 0.01879846463669587,\n",
       " '3_reward': -0.07093703809081026,\n",
       " 1: 1,\n",
       " 3: 4,\n",
       " 2: 2,\n",
       " 0: 3}"
      ]
     },
     "execution_count": 8,
     "metadata": {},
     "output_type": "execute_result"
    }
   ],
   "source": [
    "cie.data"
   ]
  },
  {
   "cell_type": "code",
   "execution_count": null,
   "id": "0047a389",
   "metadata": {},
   "outputs": [],
   "source": []
  },
  {
   "cell_type": "code",
   "execution_count": null,
   "id": "849b2b05",
   "metadata": {},
   "outputs": [],
   "source": []
  },
  {
   "cell_type": "code",
   "execution_count": 36,
   "id": "bc71ee42",
   "metadata": {},
   "outputs": [
    {
     "data": {
      "image/png": "[encoded data removed]",
      "text/plain": [
       "<Figure size 1500x500 with 5 Axes>"
      ]
     },
     "metadata": {},
     "output_type": "display_data"
    }
   ],
   "source": [
    "cie._trajectories[3].plot_all()"
   ]
  },
  {
   "cell_type": "code",
   "execution_count": null,
   "id": "aca70f97",
   "metadata": {},
   "outputs": [],
   "source": []
  },
  {
   "cell_type": "code",
   "execution_count": null,
   "id": "ec7f9d64",
   "metadata": {},
   "outputs": [],
   "source": []
  },
  {
   "cell_type": "code",
   "execution_count": null,
   "id": "7afcfe6b",
   "metadata": {},
   "outputs": [],
   "source": []
  },
  {
   "cell_type": "code",
   "execution_count": null,
   "id": "33ce2942",
   "metadata": {},
   "outputs": [],
   "source": []
  },
  {
   "cell_type": "code",
   "execution_count": null,
   "id": "aba63ce0",
   "metadata": {},
   "outputs": [],
   "source": []
  },
  {
   "cell_type": "code",
   "execution_count": null,
   "id": "0be36d99",
   "metadata": {},
   "outputs": [],
   "source": []
  },
  {
   "cell_type": "code",
   "execution_count": null,
   "id": "188ea4dd",
   "metadata": {},
   "outputs": [],
   "source": []
  },
  {
   "cell_type": "code",
   "execution_count": null,
   "id": "84b6cd69",
   "metadata": {},
   "outputs": [],
   "source": []
  },
  {
   "cell_type": "code",
   "execution_count": null,
   "id": "3fdb2351",
   "metadata": {},
   "outputs": [],
   "source": []
  },
  {
   "cell_type": "code",
   "execution_count": null,
   "id": "7aaa3e1c",
   "metadata": {},
   "outputs": [],
   "source": []
  },
  {
   "cell_type": "code",
   "execution_count": null,
   "id": "3d08b04e",
   "metadata": {},
   "outputs": [],
   "source": []
  },
  {
   "cell_type": "code",
   "execution_count": null,
   "id": "9449984b",
   "metadata": {},
   "outputs": [],
   "source": []
  },
  {
   "cell_type": "code",
   "execution_count": null,
   "id": "1a2fd1a7",
   "metadata": {},
   "outputs": [],
   "source": []
  },
  {
   "cell_type": "code",
   "execution_count": null,
   "id": "fa9e2e3f",
   "metadata": {},
   "outputs": [],
   "source": []
  },
  {
   "cell_type": "code",
   "execution_count": null,
   "id": "de219197",
   "metadata": {},
   "outputs": [],
   "source": []
  },
  {
   "cell_type": "code",
   "execution_count": null,
   "id": "7feb876f",
   "metadata": {},
   "outputs": [],
   "source": []
  },
  {
   "cell_type": "code",
   "execution_count": null,
   "id": "e271e6f2",
   "metadata": {},
   "outputs": [],
   "source": []
  },
  {
   "cell_type": "code",
   "execution_count": null,
   "id": "c39d9bc6",
   "metadata": {},
   "outputs": [],
   "source": []
  },
  {
   "cell_type": "code",
   "execution_count": null,
   "id": "98a792a1",
   "metadata": {},
   "outputs": [],
   "source": []
  },
  {
   "cell_type": "code",
   "execution_count": null,
   "id": "28913c60",
   "metadata": {},
   "outputs": [],
   "source": []
  },
  {
   "cell_type": "code",
   "execution_count": 1,
   "id": "1e9901c7",
   "metadata": {},
   "outputs": [],
   "source": [
    "%load_ext autoreload\n",
    "%autoreload 2\n",
    "from cieran import Cieran\n",
    "import seaborn as sns\n",
    "import numpy as np\n",
    "sns.set_theme(style=\"white\")\n",
    "rs = np.random.RandomState(10)\n",
    "import matplotlib.pyplot as plt\n",
    "\n",
    "# x, y = rs.normal(size=(2, 500), scale=2)\n",
    "\n",
    "# Generate a random bivariate dataset with 2 modes using a mixture of Gaussians\n",
    "from sklearn.datasets import make_blobs\n",
    "from sklearn.mixture import GaussianMixture\n",
    "\n",
    "# Initialize x and ys for 3 different datasets\n",
    "x, y = [], []\n",
    "\n",
    "data, _ = make_blobs(n_samples=500, centers=20, random_state=40, cluster_std=2)\n",
    "x.append(data[:,0].tolist())\n",
    "y.append(data[:,1].tolist())\n",
    "\n",
    "# data, _ = make_blobs(n_samples=500, centers=20, random_state=65006, cluster_std=2)\n",
    "data, _ = make_blobs(n_samples=500, centers=18, random_state=12121233, cluster_std=2)\n",
    "x.append([x-0.5 for x in data[:,0].tolist()])\n",
    "y.append([y-1 for y in data[:,1].tolist()])\n",
    "\n",
    "data, _ = make_blobs(n_samples=500, centers=20, random_state=13323567, cluster_std=2)\n",
    "x.append(data[:,0].tolist())\n",
    "y.append(data[:,1].tolist())\n",
    "\n",
    "data_id = 2\n",
    "\n",
    "\n",
    "def draw_kde(cmap):\n",
    "    \n",
    "    cmap = plt.get_cmap(cmap)\n",
    "    # sns.kdeplot(x=x, y=y, cmap=cmap, ax=ax, fill=True)\n",
    "\n",
    "    # Make a jointplot using KDE\n",
    "    g =  sns.jointplot(x=x[data_id], y=y[data_id], kind=\"kde\", cmap=cmap, fill=True, marginal_ticks=False)\n",
    "    # Make the color of the marginal plots (the histograms) black\n",
    "    g.plot_marginals(sns.histplot, color=\"#000000\", bins=20)\n",
    "    # Remove the numbered ticks on the x and y axes\n",
    "    g.ax_joint.set_xticks([])\n",
    "    g.ax_joint.set_yticks([])\n",
    "\n",
    "    # Adjust axes limits to min/max of data\n",
    "#     g.ax_joint.set_xlim(min(x[data_id])-2, max(x[data_id])+2)\n",
    "#     g.ax_joint.set_ylim(min(y[data_id])-2, max(y[data_id])+2)\n",
    "\n",
    "    g.ax_joint.set_xlim(-15,15)\n",
    "    g.ax_joint.set_ylim(-15,14.5)\n",
    "    plt.show()\n",
    "\n",
    "    \n",
    "def draw_heatmap(cmap):\n",
    "    # Set up the matplotlib figure\n",
    "    fig, ax = plt.subplots()\n",
    "    \n",
    "    cmap = plt.get_cmap(cmap)\n",
    "    sns.histplot(x=x, y=y, cmap=cmap, ax=ax,  bins=20)\n",
    "    # Adjust aspect ratio to be equal\n",
    "    ax.set_aspect('equal')\n",
    "\n",
    "    ax.set_axis_off()\n",
    "    ax.set(xlim=(-6, 6), ylim=(-6, 6))\n",
    "    plt.tight_layout()\n",
    "\n",
    "    plt.show()\n",
    "\n",
    "def draw_hexbin(cmap):\n",
    "    # Set up the matplotlib figure\n",
    "    # fig, ax = plt.subplots()\n",
    "    \n",
    "    fig, ax = plt.subplots()\n",
    "    cmap = plt.get_cmap(cmap)\n",
    "    plt.hexbin(x, y, cmap=cmap, gridsize=20)\n",
    "\n",
    "    ax.set_aspect('equal')\n",
    "\n",
    "    ax.set_axis_off()\n",
    "    ax.set(xlim=(-6, 6), ylim=(-6, 6))\n",
    "    plt.tight_layout()\n",
    "\n",
    "    plt.show()\n",
    "    \n",
    "def draw_scatter(cmap):\n",
    "    # Set up the matplotlib figure\n",
    "    # fig, ax = plt.subplots()\n",
    "    \n",
    "    fig, ax = plt.subplots()\n",
    "    cmap = plt.get_cmap(cmap).reversed()\n",
    "    plt.scatter(x, y, c='black')\n",
    "\n",
    "    ax.set_aspect('equal')\n",
    "\n",
    "    ax.set_axis_off()\n",
    "    # ax.set(xlim=(-6, 6), ylim=(-6, 6))\n",
    "    plt.tight_layout()\n",
    "\n",
    "    plt.show()\n"
   ]
  },
  {
   "cell_type": "code",
   "execution_count": 9,
   "id": "3d9cf2d3",
   "metadata": {},
   "outputs": [
    {
     "data": {
      "image/png": "[encoded data removed]",
      "text/plain": [
       "<Figure size 600x600 with 3 Axes>"
      ]
     },
     "metadata": {},
     "output_type": "display_data"
    }
   ],
   "source": [
    "draw_kde('PuRd')"
   ]
  },
  {
   "cell_type": "code",
   "execution_count": 30,
   "id": "e6572577",
   "metadata": {},
   "outputs": [
    {
     "data": {
      "image/png": "[encoded data removed]",
      "text/plain": [
       "<Figure size 640x480 with 1 Axes>"
      ]
     },
     "metadata": {},
     "output_type": "display_data"
    }
   ],
   "source": [
    "draw_scatter('viridis')"
   ]
  },
  {
   "cell_type": "code",
   "execution_count": 13,
   "id": "4ef0957e",
   "metadata": {},
   "outputs": [
    {
     "data": {
      "text/plain": [
       "array([0, 1, 1, 1, 1, 1, 1, 0, 1, 0, 1, 1, 1, 0, 1, 0, 1, 1, 0, 0, 0, 1,\n",
       "       1, 0, 1, 1, 0, 1, 0, 0, 1, 0, 1, 0, 1, 0, 1, 0, 1, 1, 0, 1, 0, 1,\n",
       "       1, 0, 0, 0, 1, 0, 0, 0, 0, 0, 0, 1, 1, 0, 1, 1, 1, 0, 0, 1, 1, 0,\n",
       "       0, 1, 0, 0, 1, 0, 0, 0, 1, 1, 0, 0, 1, 0, 1, 0, 1, 1, 0, 0, 1, 1,\n",
       "       0, 1, 1, 0, 0, 0, 0, 0, 1, 1, 0, 0, 1, 1, 0, 1, 0, 0, 1, 1, 0, 0,\n",
       "       0, 1, 1, 0, 0, 0, 0, 1, 1, 0, 0, 0, 1, 0, 0, 0, 1, 1, 1, 1, 1, 0,\n",
       "       1, 0, 0, 1, 1, 0, 0, 0, 1, 0, 0, 1, 1, 0, 0, 0, 1, 1, 0, 0, 0, 0,\n",
       "       1, 1, 0, 0, 0, 0, 0, 0, 0, 1, 0, 0, 1, 1, 0, 0, 0, 1, 1, 0, 1, 0,\n",
       "       1, 0, 1, 1, 1, 0, 1, 1, 0, 0, 0, 1, 0, 1, 0, 1, 0, 0, 0, 1, 0, 0,\n",
       "       1, 1, 1, 1, 1, 1, 1, 0, 1, 1, 0, 1, 0, 1, 0, 1, 0, 0, 0, 0, 0, 0,\n",
       "       0, 1, 0, 0, 1, 0, 0, 1, 1, 1, 1, 1, 0, 1, 1, 1, 1, 1, 0, 1, 0, 0,\n",
       "       0, 1, 0, 0, 0, 1, 0, 0, 1, 0, 1, 0, 0, 0, 0, 0, 1, 1, 0, 1, 0, 1,\n",
       "       0, 0, 1, 1, 0, 1, 0, 0, 1, 1, 1, 1, 1, 0, 0, 0, 1, 0, 0, 1, 0, 1,\n",
       "       1, 1, 0, 1, 0, 1, 0, 1, 0, 1, 1, 0, 0, 0, 1, 1, 1, 1, 1, 1, 0, 0,\n",
       "       1, 0, 0, 0, 1, 1, 1, 1, 1, 1, 0, 1, 0, 0, 0, 1, 1, 1, 0, 1, 1, 1,\n",
       "       0, 1, 1, 1, 0, 0, 0, 0, 0, 0, 0, 0, 0, 0, 1, 0, 0, 1, 0, 0, 1, 0,\n",
       "       1, 1, 0, 1, 0, 1, 1, 1, 1, 0, 0, 0, 1, 0, 0, 1, 0, 0, 1, 1, 1, 0,\n",
       "       0, 1, 0, 1, 1, 1, 1, 0, 1, 0, 1, 1, 1, 0, 0, 0, 0, 1, 0, 1, 0, 0,\n",
       "       1, 0, 0, 1, 0, 1, 0, 1, 1, 1, 0, 1, 0, 0, 0, 0, 0, 0, 1, 0, 1, 1,\n",
       "       1, 1, 0, 1, 0, 1, 1, 1, 1, 1, 0, 1, 1, 1, 0, 0, 0, 0, 1, 1, 1, 1,\n",
       "       0, 0, 1, 0, 1, 1, 0, 0, 0, 0, 0, 0, 0, 0, 1, 1, 0, 0, 1, 0, 0, 1,\n",
       "       1, 1, 1, 0, 0, 0, 1, 1, 1, 0, 0, 0, 1, 0, 0, 0, 1, 0, 1, 0, 1, 1,\n",
       "       1, 1, 1, 1, 0, 1, 0, 0, 1, 0, 0, 0, 0, 0, 1, 1, 0, 1, 0, 1, 1, 0,\n",
       "       0, 0, 1, 0, 0, 0, 0, 0, 0, 0, 0, 0, 1, 0, 0, 1, 0, 0, 0, 0, 0, 1,\n",
       "       0, 0, 0, 0, 0, 1, 1, 1, 1, 0, 1, 0, 0, 0, 1, 1, 1, 0, 0, 0, 0, 0,\n",
       "       1, 1, 0, 0, 0, 0, 0, 0, 1, 1, 0, 0, 0, 0, 0, 1, 1, 1, 0, 1, 1, 1,\n",
       "       0, 0, 1, 1, 1, 0, 1, 0, 1, 1, 1, 1, 1, 1, 1, 0, 1, 0, 0, 0, 0, 0,\n",
       "       0, 0, 1, 1, 1, 0, 1, 0, 0, 1, 0, 1, 1, 1, 1, 0, 0, 1, 1, 0, 0, 0,\n",
       "       1, 1, 1, 1, 1, 0, 1, 1, 1, 0, 0, 1, 0, 1, 1, 0, 1, 1, 0, 1, 1, 0,\n",
       "       0, 1, 1, 1, 1, 1, 1, 1, 0, 1, 0, 0, 1, 0, 0, 1, 0, 1, 0, 1, 0, 0,\n",
       "       1, 0, 1, 1, 1, 0, 1, 1, 1, 0, 1, 0, 0, 1, 0, 0, 0, 0, 1, 0, 0, 0,\n",
       "       1, 0, 0, 0, 0, 1, 1, 1, 0, 1, 0, 1, 0, 1, 1, 1, 0, 1, 1, 1, 1, 1,\n",
       "       0, 0, 1, 1, 0, 1, 1, 0, 0, 1, 1, 1, 0, 1, 1, 1, 0, 0, 1, 0, 0, 1,\n",
       "       0, 1, 1, 0, 1, 1, 1, 1, 1, 1, 0, 0, 1, 1, 1, 0, 0, 1, 1, 1, 1, 1,\n",
       "       1, 1, 1, 1, 1, 1, 0, 0, 1, 0, 0, 0, 1, 0, 1, 0, 0, 1, 1, 0, 0, 1,\n",
       "       1, 0, 1, 0, 0, 1, 0, 1, 1, 1, 1, 1, 0, 1, 1, 0, 0, 0, 1, 1, 1, 1,\n",
       "       0, 1, 0, 0, 0, 0, 1, 0, 0, 0, 0, 0, 1, 0, 1, 1, 1, 1, 0, 1, 1, 0,\n",
       "       0, 0, 1, 1, 1, 0, 0, 1, 0, 1, 0, 0, 0, 1, 1, 0, 0, 0, 1, 1, 0, 1,\n",
       "       1, 1, 0, 1, 1, 1, 1, 1, 1, 0, 1, 1, 1, 1, 0, 1, 0, 1, 1, 0, 1, 1,\n",
       "       1, 0, 1, 1, 0, 0, 1, 1, 1, 0, 0, 1, 0, 1, 1, 1, 0, 0, 1, 0, 1, 1,\n",
       "       1, 1, 1, 1, 0, 1, 0, 0, 1, 1, 0, 0, 0, 0, 1, 0, 1, 0, 1, 0, 0, 1,\n",
       "       1, 1, 1, 0, 1, 0, 1, 1, 1, 1, 0, 0, 1, 0, 0, 0, 0, 1, 0, 0, 1, 0,\n",
       "       1, 1, 0, 0, 0, 1, 0, 1, 1, 1, 0, 0, 0, 0, 0, 1, 0, 0, 0, 0, 1, 0,\n",
       "       0, 1, 0, 0, 1, 1, 0, 1, 0, 1, 0, 1, 1, 0, 1, 1, 0, 1, 1, 1, 0, 1,\n",
       "       0, 0, 1, 1, 1, 0, 0, 0, 0, 0, 0, 1, 1, 1, 0, 1, 0, 0, 1, 1, 0, 1,\n",
       "       0, 0, 0, 1, 0, 0, 1, 1, 1, 0])"
      ]
     },
     "execution_count": 13,
     "metadata": {},
     "output_type": "execute_result"
    }
   ],
   "source": [
    "y"
   ]
  },
  {
   "cell_type": "code",
   "execution_count": 2,
   "id": "99e3de7e",
   "metadata": {},
   "outputs": [
    {
     "ename": "NameError",
     "evalue": "name 'cie' is not defined",
     "output_type": "error",
     "traceback": [
      "\u001b[0;31m---------------------------------------------------------------------------\u001b[0m",
      "\u001b[0;31mNameError\u001b[0m                                 Traceback (most recent call last)",
      "Cell \u001b[0;32mIn[2], line 1\u001b[0m\n\u001b[0;32m----> 1\u001b[0m plt\u001b[38;5;241m.\u001b[39mplot(\u001b[43mcie\u001b[49m\u001b[38;5;241m.\u001b[39mreward_history)\n",
      "\u001b[0;31mNameError\u001b[0m: name 'cie' is not defined"
     ]
    }
   ],
   "source": [
    "plt.plot(cie.reward_history)"
   ]
  },
  {
   "cell_type": "code",
   "execution_count": null,
   "id": "3e2c5151",
   "metadata": {},
   "outputs": [],
   "source": []
  }
 ],
 "metadata": {
  "kernelspec": {
   "display_name": "Python 3 (ipykernel)",
   "language": "python",
   "name": "python3"
  },
  "language_info": {
   "codemirror_mode": {
    "name": "ipython",
    "version": 3
   },
   "file_extension": ".py",
   "mimetype": "text/x-python",
   "name": "python",
   "nbconvert_exporter": "python",
   "pygments_lexer": "ipython3",
   "version": "3.10.9"
  }
 },
 "nbformat": 4,
 "nbformat_minor": 5
}
