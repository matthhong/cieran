{
 "cells": [
  {
   "cell_type": "code",
   "execution_count": 1,
   "metadata": {},
   "outputs": [
    {
     "name": "stdout",
     "output_type": "stream",
     "text": [
      "Number of points: 1278\n"
     ]
    },
    {
     "name": "stderr",
     "output_type": "stream",
     "text": [
      "/Users/beach/Projects/ramp-it/KDTree.py:44: VisibleDeprecationWarning: Creating an ndarray from ragged nested sequences (which is a list-or-tuple of lists-or-tuples-or ndarrays with different lengths or shapes) is deprecated. If you meant to do this, you must specify 'dtype=object' when creating the ndarray.\n",
      "  distances, points = np.array(queue.queue).T\n"
     ]
    },
    {
     "name": "stdout",
     "output_type": "stream",
     "text": [
      "num ramps: 193\n",
      "num out of gamut: 0\n",
      "Estimated user parameters: {'weights': array([ 0.85187965, -0.44161727, -0.28155861])}\n",
      "Objective Value: 1.0199785592605388\n"
     ]
    },
    {
     "name": "stderr",
     "output_type": "stream",
     "text": [
      "/Users/beach/Projects/ramp-it/aprel/utils/generate_trajectories.py:106: UserWarning: headless=False was set, but either the environment is missing a render function or the render function does not accept mode='rgb_array'. Automatically switching to headless mode.\n",
      "  warnings.warn(('headless=False was set, but either the environment is missing '\n"
     ]
    },
    {
     "ename": "AttributeError",
     "evalue": "'Ramping' object has no attribute 'cmap'",
     "output_type": "error",
     "traceback": [
      "\u001b[0;31m---------------------------------------------------------------------------\u001b[0m",
      "\u001b[0;31mAttributeError\u001b[0m                            Traceback (most recent call last)",
      "Cell \u001b[0;32mIn[1], line 30\u001b[0m\n\u001b[1;32m     27\u001b[0m queries, objective_values \u001b[39m=\u001b[39m query_optimizer\u001b[39m.\u001b[39moptimize(\u001b[39m'\u001b[39m\u001b[39mdisagreement\u001b[39m\u001b[39m'\u001b[39m, belief, query)\n\u001b[1;32m     28\u001b[0m \u001b[39mprint\u001b[39m(\u001b[39m'\u001b[39m\u001b[39mObjective Value: \u001b[39m\u001b[39m'\u001b[39m \u001b[39m+\u001b[39m \u001b[39mstr\u001b[39m(objective_values[\u001b[39m0\u001b[39m]))\n\u001b[0;32m---> 30\u001b[0m responses \u001b[39m=\u001b[39m true_user\u001b[39m.\u001b[39;49mrespond(queries[\u001b[39m0\u001b[39;49m])\n\u001b[1;32m     31\u001b[0m belief\u001b[39m.\u001b[39mupdate(aprel\u001b[39m.\u001b[39mPreference(queries[\u001b[39m0\u001b[39m], responses[\u001b[39m0\u001b[39m]))\n\u001b[1;32m     32\u001b[0m \u001b[39mprint\u001b[39m(\u001b[39m'\u001b[39m\u001b[39mEstimated user parameters: \u001b[39m\u001b[39m'\u001b[39m \u001b[39m+\u001b[39m \u001b[39mstr\u001b[39m(belief\u001b[39m.\u001b[39mmean))\n",
      "File \u001b[0;32m~/Projects/ramp-it/aprel/learning/user_models.py:274\u001b[0m, in \u001b[0;36mHumanUser.respond\u001b[0;34m(self, queries)\u001b[0m\n\u001b[1;32m    272\u001b[0m responses \u001b[39m=\u001b[39m []\n\u001b[1;32m    273\u001b[0m \u001b[39mfor\u001b[39;00m query \u001b[39min\u001b[39;00m queries:\n\u001b[0;32m--> 274\u001b[0m     responses\u001b[39m.\u001b[39mappend(query\u001b[39m.\u001b[39;49mvisualize(\u001b[39mself\u001b[39;49m\u001b[39m.\u001b[39;49mdelay))\n\u001b[1;32m    275\u001b[0m \u001b[39mreturn\u001b[39;00m responses\n",
      "File \u001b[0;32m~/Projects/ramp-it/aprel/learning/data_types.py:304\u001b[0m, in \u001b[0;36mWeakComparisonQuery.visualize\u001b[0;34m(self, delay)\u001b[0m\n\u001b[1;32m    299\u001b[0m \u001b[39m# for i in range(self.K):\u001b[39;00m\n\u001b[1;32m    300\u001b[0m \u001b[39m#     print('Playing trajectory #' + str(i))\u001b[39;00m\n\u001b[1;32m    301\u001b[0m \u001b[39m#     time.sleep(delay)\u001b[39;00m\n\u001b[1;32m    302\u001b[0m \u001b[39m#     self.slate[i].visualize()\u001b[39;00m\n\u001b[1;32m    303\u001b[0m \u001b[39mif\u001b[39;00m \u001b[39mself\u001b[39m\u001b[39m.\u001b[39mchart \u001b[39mis\u001b[39;00m \u001b[39mNone\u001b[39;00m:\n\u001b[0;32m--> 304\u001b[0m     ramp1 \u001b[39m=\u001b[39m Ramping(\u001b[39mself\u001b[39;49m\u001b[39m.\u001b[39;49mslate[\u001b[39m0\u001b[39;49m]\u001b[39m.\u001b[39;49mtrajectory)\u001b[39m.\u001b[39;49mcmap\n\u001b[1;32m    305\u001b[0m     ramp2 \u001b[39m=\u001b[39m Ramping(\u001b[39mself\u001b[39m\u001b[39m.\u001b[39mslate[\u001b[39m1\u001b[39m]\u001b[39m.\u001b[39mtrajectory)\u001b[39m.\u001b[39mcmap\n\u001b[1;32m    307\u001b[0m     \u001b[39m# Show the ramps side by side\u001b[39;00m\n",
      "\u001b[0;31mAttributeError\u001b[0m: 'Ramping' object has no attribute 'cmap'"
     ]
    }
   ],
   "source": [
    "#autoreload\n",
    "%load_ext autoreload\n",
    "%autoreload 2\n",
    "\n",
    "import aprel\n",
    "\n",
    "env = aprel.Environment([26.6128, 37.85, -44.51])\n",
    "env_name = 'Cieran'\n"
   ]
  },
  {
   "cell_type": "code",
   "execution_count": 2,
   "metadata": {},
   "outputs": [
    {
     "name": "stdout",
     "output_type": "stream",
     "text": [
      "Estimated user parameters: {'weights': array([ 0.60194944,  0.41617593, -0.68150896])}\n"
     ]
    },
    {
     "ename": "TypeError",
     "evalue": "super(type, obj): obj must be an instance or subtype of type",
     "output_type": "error",
     "traceback": [
      "\u001b[0;31m---------------------------------------------------------------------------\u001b[0m",
      "\u001b[0;31mTypeError\u001b[0m                                 Traceback (most recent call last)",
      "Cell \u001b[0;32mIn[2], line 15\u001b[0m\n\u001b[1;32m     12\u001b[0m belief \u001b[39m=\u001b[39m aprel\u001b[39m.\u001b[39mSamplingBasedBelief(user_model, [], params)\n\u001b[1;32m     13\u001b[0m \u001b[39mprint\u001b[39m(\u001b[39m'\u001b[39m\u001b[39mEstimated user parameters: \u001b[39m\u001b[39m'\u001b[39m \u001b[39m+\u001b[39m \u001b[39mstr\u001b[39m(belief\u001b[39m.\u001b[39mmean))\n\u001b[0;32m---> 15\u001b[0m query \u001b[39m=\u001b[39m aprel\u001b[39m.\u001b[39;49mWeakComparisonQuery(trajectory_set[:\u001b[39m2\u001b[39;49m])\n\u001b[1;32m     17\u001b[0m \u001b[39mfor\u001b[39;00m query_no \u001b[39min\u001b[39;00m \u001b[39mrange\u001b[39m(\u001b[39m10\u001b[39m):\n\u001b[1;32m     18\u001b[0m     queries, objective_values \u001b[39m=\u001b[39m query_optimizer\u001b[39m.\u001b[39moptimize(\u001b[39m'\u001b[39m\u001b[39mdisagreement\u001b[39m\u001b[39m'\u001b[39m, belief, query)\n",
      "File \u001b[0;32m~/Projects/ramp-it/aprel/learning/data_types.py:282\u001b[0m, in \u001b[0;36mWeakComparisonQuery.__init__\u001b[0;34m(self, slate, chart)\u001b[0m\n\u001b[1;32m    281\u001b[0m \u001b[39mdef\u001b[39;00m \u001b[39m__init__\u001b[39m(\u001b[39mself\u001b[39m, slate: Union[TrajectorySet, List[Trajectory]], chart\u001b[39m=\u001b[39m\u001b[39mNone\u001b[39;00m):\n\u001b[0;32m--> 282\u001b[0m     \u001b[39msuper\u001b[39;49m(WeakComparisonQuery, \u001b[39mself\u001b[39;49m)\u001b[39m.\u001b[39m\u001b[39m__init__\u001b[39m()\n\u001b[1;32m    283\u001b[0m     \u001b[39massert\u001b[39;00m \u001b[39misinstance\u001b[39m(slate, TrajectorySet) \u001b[39mor\u001b[39;00m \u001b[39misinstance\u001b[39m(slate, \u001b[39mlist\u001b[39m), \u001b[39m'\u001b[39m\u001b[39mQuery constructor requires a TrajectorySet object for the slate.\u001b[39m\u001b[39m'\u001b[39m\n\u001b[1;32m    284\u001b[0m     \u001b[39mself\u001b[39m\u001b[39m.\u001b[39mslate \u001b[39m=\u001b[39m slate\n",
      "\u001b[0;31mTypeError\u001b[0m: super(type, obj): obj must be an instance or subtype of type"
     ]
    }
   ],
   "source": [
    "trajectory_set = aprel.generate_trajectories_randomly(env, num_trajectories=10,\n",
    "                                                      max_episode_length=300,\n",
    "                                                      file_name=env_name, seed=0)\n",
    "features_dim = len(trajectory_set[0].features)\n",
    "\n",
    "query_optimizer = aprel.QueryOptimizerDiscreteTrajectorySet(trajectory_set)\n",
    "\n",
    "true_user = aprel.HumanUser(delay=0.5)\n",
    "\n",
    "params = {'weights': aprel.util_funs.get_random_normalized_vector(features_dim)}\n",
    "user_model = aprel.SoftmaxUser(params)\n",
    "belief = aprel.SamplingBasedBelief(user_model, [], params)\n",
    "print('Estimated user parameters: ' + str(belief.mean))\n",
    "                                       \n",
    "query = aprel.WeakComparisonQuery(trajectory_set[:2])\n",
    "\n",
    "for query_no in range(10):\n",
    "    queries, objective_values = query_optimizer.optimize('disagreement', belief, query)\n",
    "    print('Objective Value: ' + str(objective_values[0]))\n",
    "    \n",
    "    responses = true_user.respond(queries[0])\n",
    "    belief.update(aprel.Preference(queries[0], responses[0]))\n",
    "    print('Estimated user parameters: ' + str(belief.mean))"
   ]
  },
  {
   "cell_type": "code",
   "execution_count": null,
   "metadata": {},
   "outputs": [],
   "source": []
  }
 ],
 "metadata": {
  "kernelspec": {
   "display_name": "ramp-it",
   "language": "python",
   "name": "python3"
  },
  "language_info": {
   "codemirror_mode": {
    "name": "ipython",
    "version": 3
   },
   "file_extension": ".py",
   "mimetype": "text/x-python",
   "name": "python",
   "nbconvert_exporter": "python",
   "pygments_lexer": "ipython3",
   "version": "3.10.8"
  },
  "orig_nbformat": 4,
  "vscode": {
   "interpreter": {
    "hash": "598115aadcd325614e14ae54e6e1065c9f2252c8332948ad864ca717b5f2546d"
   }
  }
 },
 "nbformat": 4,
 "nbformat_minor": 2
}
