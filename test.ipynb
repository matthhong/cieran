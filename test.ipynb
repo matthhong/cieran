{
 "cells": [
  {
   "cell_type": "code",
   "execution_count": null,
   "metadata": {},
   "outputs": [
    {
     "name": "stdout",
     "output_type": "stream",
     "text": [
      "Estimated user parameters: {'weights': array([-0.04811409,  0.70854902, -0.26682523, -0.25832695,  0.21425058,\n",
      "        0.36158205, -0.40587011, -0.12782552])}\n",
      "Objective Value: 0.09846455832540375\n"
     ]
    },
    {
     "data": {
      "application/vnd.jupyter.widget-view+json": {
       "model_id": "8b18c514e7fc4c77923b0d3c3e922138",
       "version_major": 2,
       "version_minor": 0
      },
      "text/plain": [
       "Output()"
      ]
     },
     "metadata": {},
     "output_type": "display_data"
    }
   ],
   "source": [
    "from test import *\n",
    "main()\n",
    "\n"
   ]
  },
  {
   "cell_type": "code",
   "execution_count": null,
   "metadata": {},
   "outputs": [],
   "source": [
    "# Draw a random plot\n",
    "%matplotlib inline\n",
    "import matplotlib.pyplot as plt\n",
    "import numpy as np\n",
    "from IPython.display import display\n",
    "from ipywidgets import Output, Tab\n",
    "\n",
    "# Show random data\n",
    "x = np.linspace(0, 10, 100)\n",
    "y = np.random.rand(100)\n",
    "\n",
    "# Create a figure and show\n",
    "def chart():\n",
    "    plt.scatter(x, y)\n",
    "    plt.show()\n",
    "\n",
    "# Create an output widget\n",
    "out = Output()\n",
    "display(out)\n",
    "\n",
    "with out:\n",
    "    # Display the figure\n",
    "    plt.scatter(x, y)\n",
    "    plt.show()"
   ]
  },
  {
   "cell_type": "code",
   "execution_count": null,
   "metadata": {},
   "outputs": [],
   "source": [
    "from IPython.display import clear_output\n",
    "with out:\n",
    "    clear_output()"
   ]
  },
  {
   "cell_type": "code",
   "execution_count": null,
   "metadata": {},
   "outputs": [],
   "source": []
  }
 ],
 "metadata": {
  "kernelspec": {
   "display_name": "Python 3 (ipykernel)",
   "language": "python",
   "name": "python3"
  },
  "language_info": {
   "codemirror_mode": {
    "name": "ipython",
    "version": 3
   },
   "file_extension": ".py",
   "mimetype": "text/x-python",
   "name": "python",
   "nbconvert_exporter": "python",
   "pygments_lexer": "ipython3",
   "version": "3.10.8"
  },
  "vscode": {
   "interpreter": {
    "hash": "598115aadcd325614e14ae54e6e1065c9f2252c8332948ad864ca717b5f2546d"
   }
  }
 },
 "nbformat": 4,
 "nbformat_minor": 2
}
