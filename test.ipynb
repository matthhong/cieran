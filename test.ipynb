{
 "cells": [
  {
   "cell_type": "code",
   "execution_count": 4,
   "metadata": {},
   "outputs": [],
   "source": [
    "import cieran"
   ]
  },
  {
   "cell_type": "code",
   "execution_count": 4,
   "metadata": {},
   "outputs": [
    {
     "name": "stdout",
     "output_type": "stream",
     "text": [
      "The autoreload extension is already loaded. To reload it, use:\n",
      "  %reload_ext autoreload\n",
      "Estimated user parameters: {'weights': array([-0.32910986, -0.30163947, -0.57146009,  0.23922944, -0.15703027,\n",
      "       -0.58103183,  0.22655436, -0.05761599])}\n",
      "Objective Value: 1.0180120714956642\n"
     ]
    },
    {
     "data": {
      "application/vnd.jupyter.widget-view+json": {
       "model_id": "8892f57e529a4ad8ae92dca5ad26a1a5",
       "version_major": 2,
       "version_minor": 0
      },
      "text/plain": [
       "Output()"
      ]
     },
     "metadata": {},
     "output_type": "display_data"
    },
    {
     "ename": "ValueError",
     "evalue": "invalid literal for int() with base 10: ''",
     "output_type": "error",
     "traceback": [
      "\u001b[0;31m---------------------------------------------------------------------------\u001b[0m",
      "\u001b[0;31mValueError\u001b[0m                                Traceback (most recent call last)",
      "Cell \u001b[0;32mIn[4], line 18\u001b[0m\n\u001b[1;32m     14\u001b[0m     ax\u001b[39m.\u001b[39mimshow(data2d, cmap\u001b[39m=\u001b[39mcmap)\n\u001b[1;32m     16\u001b[0m     plt\u001b[39m.\u001b[39mshow()\n\u001b[0;32m---> 18\u001b[0m cieran\u001b[39m.\u001b[39;49mtrain([\u001b[39m69.33\u001b[39;49m, \u001b[39m-\u001b[39;49m\u001b[39m10.77\u001b[39;49m, \u001b[39m-\u001b[39;49m\u001b[39m24.79\u001b[39;49m], render\u001b[39m=\u001b[39;49mdraw_chart)\n",
      "File \u001b[0;32m~/Projects/cieran/cieran/train.py:55\u001b[0m, in \u001b[0;36mtrain\u001b[0;34m(color, render)\u001b[0m\n\u001b[1;32m     51\u001b[0m queries, objective_values \u001b[39m=\u001b[39m query_optimizer\u001b[39m.\u001b[39moptimize(\u001b[39m'\u001b[39m\u001b[39mdisagreement\u001b[39m\u001b[39m'\u001b[39m, belief, query, optimization_method\u001b[39m=\u001b[39m\u001b[39m'\u001b[39m\u001b[39mmedoids\u001b[39m\u001b[39m'\u001b[39m, batch_size\u001b[39m=\u001b[39m\u001b[39m6\u001b[39m)\n\u001b[1;32m     53\u001b[0m \u001b[39mprint\u001b[39m(\u001b[39m'\u001b[39m\u001b[39mObjective Value: \u001b[39m\u001b[39m'\u001b[39m \u001b[39m+\u001b[39m \u001b[39mstr\u001b[39m(objective_values[\u001b[39m0\u001b[39m]))\n\u001b[0;32m---> 55\u001b[0m responses \u001b[39m=\u001b[39m true_user\u001b[39m.\u001b[39;49mrespond(queries[\u001b[39m0\u001b[39;49m])\n\u001b[1;32m     56\u001b[0m belief\u001b[39m.\u001b[39mupdate(WeakComparison(queries[\u001b[39m0\u001b[39m], responses[\u001b[39m0\u001b[39m]))\n\u001b[1;32m     57\u001b[0m \u001b[39mprint\u001b[39m(\u001b[39m'\u001b[39m\u001b[39mEstimated user parameters: \u001b[39m\u001b[39m'\u001b[39m \u001b[39m+\u001b[39m \u001b[39mstr\u001b[39m(belief\u001b[39m.\u001b[39mmean))\n",
      "File \u001b[0;32m~/Projects/cieran/cieran/learning/user_models.py:251\u001b[0m, in \u001b[0;36mHumanUser.respond\u001b[0;34m(self, queries)\u001b[0m\n\u001b[1;32m    249\u001b[0m responses \u001b[39m=\u001b[39m []\n\u001b[1;32m    250\u001b[0m \u001b[39mfor\u001b[39;00m query \u001b[39min\u001b[39;00m queries:\n\u001b[0;32m--> 251\u001b[0m     responses\u001b[39m.\u001b[39mappend(query\u001b[39m.\u001b[39;49mvisualize(\u001b[39mself\u001b[39;49m\u001b[39m.\u001b[39;49mdelay))\n\u001b[1;32m    252\u001b[0m \u001b[39mreturn\u001b[39;00m responses\n",
      "File \u001b[0;32m~/Projects/cieran/cieran/learning/data_types.py:147\u001b[0m, in \u001b[0;36mWeakComparisonQuery.visualize\u001b[0;34m(self, delay)\u001b[0m\n\u001b[1;32m    145\u001b[0m \u001b[39mwhile\u001b[39;00m selection \u001b[39mis\u001b[39;00m \u001b[39mNone\u001b[39;00m:\n\u001b[1;32m    146\u001b[0m     selection \u001b[39m=\u001b[39m \u001b[39minput\u001b[39m(\u001b[39m'\u001b[39m\u001b[39mWhich trajectory is the best? Enter a number (0 for \u001b[39m\u001b[39m\"\u001b[39m\u001b[39mAbout Equal\u001b[39m\u001b[39m\"\u001b[39m\u001b[39m): \u001b[39m\u001b[39m'\u001b[39m)\n\u001b[0;32m--> 147\u001b[0m     selection \u001b[39m=\u001b[39m \u001b[39mstr\u001b[39m(\u001b[39mint\u001b[39;49m(selection) \u001b[39m-\u001b[39m \u001b[39m1\u001b[39m)\n\u001b[1;32m    148\u001b[0m     \u001b[39mif\u001b[39;00m \u001b[39mnot\u001b[39;00m isinteger(selection) \u001b[39mor\u001b[39;00m \u001b[39mint\u001b[39m(selection) \u001b[39mnot\u001b[39;00m \u001b[39min\u001b[39;00m \u001b[39mself\u001b[39m\u001b[39m.\u001b[39mresponse_set:\n\u001b[1;32m    149\u001b[0m         selection \u001b[39m=\u001b[39m \u001b[39mNone\u001b[39;00m\n",
      "\u001b[0;31mValueError\u001b[0m: invalid literal for int() with base 10: ''"
     ]
    }
   ],
   "source": [
    "# autoreload\n",
    "%load_ext autoreload\n",
    "%autoreload 2\n",
    "import cieran\n",
    "import numpy as np\n",
    "import matplotlib.pyplot as plt\n",
    "\n",
    "def draw_chart(cmap):\n",
    "\n",
    "    t = np.linspace(0, 2 * np.pi, 1024)\n",
    "    data2d = np.sin(t)[:, np.newaxis] * np.cos(t)[np.newaxis, :]\n",
    "    # Draw a chart of data2d with the given colormap\n",
    "    fig, ax = plt.subplots()\n",
    "    ax.imshow(data2d, cmap=cmap)\n",
    "\n",
    "    plt.show()\n",
    "\n",
    "cieran.train([69.33, -10.77, -24.79], render=draw_chart)"
   ]
  },
  {
   "cell_type": "code",
   "execution_count": null,
   "metadata": {},
   "outputs": [],
   "source": [
    "# Draw a random plot\n",
    "%matplotlib inline\n",
    "import matplotlib.pyplot as plt\n",
    "import numpy as np\n",
    "from IPython.display import display\n",
    "from ipywidgets import Output, Tab\n",
    "\n",
    "# Show random data\n",
    "x = np.linspace(0, 10, 100)\n",
    "y = np.random.rand(100)\n",
    "\n",
    "# Create a figure and show\n",
    "def chart():\n",
    "    plt.scatter(x, y)\n",
    "    plt.show()\n",
    "\n",
    "# Create an output widget\n",
    "out = Output()\n",
    "display(out)\n",
    "\n",
    "with out:\n",
    "    # Display the figure\n",
    "    plt.scatter(x, y)\n",
    "    plt.show()"
   ]
  },
  {
   "cell_type": "code",
   "execution_count": null,
   "metadata": {},
   "outputs": [],
   "source": [
    "from IPython.display import clear_output\n",
    "with out:\n",
    "    clear_output()"
   ]
  },
  {
   "cell_type": "code",
   "execution_count": null,
   "metadata": {},
   "outputs": [],
   "source": []
  }
 ],
 "metadata": {
  "kernelspec": {
   "display_name": "Python 3 (ipykernel)",
   "language": "python",
   "name": "python3"
  },
  "language_info": {
   "codemirror_mode": {
    "name": "ipython",
    "version": 3
   },
   "file_extension": ".py",
   "mimetype": "text/x-python",
   "name": "python",
   "nbconvert_exporter": "python",
   "pygments_lexer": "ipython3",
   "version": "3.10.8"
  },
  "vscode": {
   "interpreter": {
    "hash": "598115aadcd325614e14ae54e6e1065c9f2252c8332948ad864ca717b5f2546d"
   }
  }
 },
 "nbformat": 4,
 "nbformat_minor": 2
}
