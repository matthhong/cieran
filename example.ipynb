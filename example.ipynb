{
 "cells": [
  {
   "cell_type": "code",
   "execution_count": 8,
   "metadata": {},
   "outputs": [
    {
     "name": "stdout",
     "output_type": "stream",
     "text": [
      "The autoreload extension is already loaded. To reload it, use:\n",
      "  %reload_ext autoreload\n"
     ]
    }
   ],
   "source": [
    "%load_ext autoreload\n",
    "%autoreload 2\n",
    "from cieran import Cieran\n",
    "import seaborn as sns\n",
    "import numpy as np\n",
    "sns.set_theme(style=\"white\")\n",
    "rs = np.random.RandomState(50)\n",
    "import matplotlib.pyplot as plt\n",
    "\n",
    "x, y = rs.normal(size=(2, 50))\n",
    "def draw_kde(cmap):\n",
    "    # Set up the matplotlib figure\n",
    "    fig, ax = plt.subplots()\n",
    "    sns.kdeplot(x=x, y=y, cmap=cmap, ax=ax, fill=True, clip=(-5, 5), cut=10, thresh=0, levels=9)\n",
    "    # Adjust aspect ratio to be equal\n",
    "    ax.set_aspect('equal')\n",
    "\n",
    "    ax.set_axis_off()\n",
    "    ax.set(xlim=(-3.5, 3.5), ylim=(-3.5, 3.5))\n",
    "    plt.tight_layout()\n",
    "    \n",
    "    plt.show()\n"
   ]
  },
  {
   "cell_type": "code",
   "execution_count": 9,
   "metadata": {},
   "outputs": [
    {
     "data": {
      "application/vnd.jupyter.widget-view+json": {
       "model_id": "4e2ac0039fc246c69e6effe3c953337c",
       "version_major": 2,
       "version_minor": 0
      },
      "text/plain": [
       "Output()"
      ]
     },
     "metadata": {},
     "output_type": "display_data"
    }
   ],
   "source": [
    "cie = Cieran(palette='tableau10', draw=draw_kde)"
   ]
  },
  {
   "cell_type": "code",
   "execution_count": 10,
   "metadata": {},
   "outputs": [
    {
     "data": {
      "application/vnd.jupyter.widget-view+json": {
       "model_id": "10b83d35606f4792b8b3e24a3661d3ab",
       "version_major": 2,
       "version_minor": 0
      },
      "text/plain": [
       "IntProgress(value=1, layout=Layout(height='36px', margin='8px', width='auto'), max=15, style=ProgressStyle(bar…"
      ]
     },
     "metadata": {},
     "output_type": "display_data"
    },
    {
     "data": {
      "application/vnd.jupyter.widget-view+json": {
       "model_id": "134a9d59d1d94fabae9eda9e35136d08",
       "version_major": 2,
       "version_minor": 0
      },
      "text/plain": [
       "Output()"
      ]
     },
     "metadata": {},
     "output_type": "display_data"
    },
    {
     "name": "stdout",
     "output_type": "stream",
     "text": [
      "Which is better for a paper figure? Enter a number (1: left, 2: right, 0: about equal): q\n"
     ]
    },
    {
     "ename": "ValueError",
     "evalue": "invalid literal for int() with base 10: 'q'",
     "output_type": "error",
     "traceback": [
      "\u001b[0;31m---------------------------------------------------------------------------\u001b[0m",
      "\u001b[0;31mValueError\u001b[0m                                Traceback (most recent call last)",
      "Cell \u001b[0;32mIn[10], line 1\u001b[0m\n\u001b[0;32m----> 1\u001b[0m \u001b[43mcie\u001b[49m\u001b[38;5;241;43m.\u001b[39;49m\u001b[43mteach\u001b[49m\u001b[43m(\u001b[49m\u001b[43m)\u001b[49m\n",
      "File \u001b[0;32m~/Projects/cieran/cieran/train.py:164\u001b[0m, in \u001b[0;36mCieran.teach\u001b[0;34m(self, n_queries)\u001b[0m\n\u001b[1;32m    157\u001b[0m queries, objective_values \u001b[38;5;241m=\u001b[39m \u001b[38;5;28mself\u001b[39m\u001b[38;5;241m.\u001b[39m_query_optimizer\u001b[38;5;241m.\u001b[39moptimize(\u001b[38;5;124m'\u001b[39m\u001b[38;5;124mdisagreement\u001b[39m\u001b[38;5;124m'\u001b[39m, \u001b[38;5;28mself\u001b[39m\u001b[38;5;241m.\u001b[39m_belief, \u001b[38;5;28mself\u001b[39m\u001b[38;5;241m.\u001b[39m_query)\n\u001b[1;32m    159\u001b[0m \u001b[38;5;66;03m# print('Trajectory 1: ' + str(queries[0].slate[0].features))\u001b[39;00m\n\u001b[1;32m    160\u001b[0m \u001b[38;5;66;03m# print('Trajectory 2: ' + str(queries[0].slate[1].features))\u001b[39;00m\n\u001b[1;32m    161\u001b[0m \n\u001b[1;32m    162\u001b[0m \u001b[38;5;66;03m# print('Objective Value: ' + str(objective_values[0]))\u001b[39;00m\n\u001b[0;32m--> 164\u001b[0m responses \u001b[38;5;241m=\u001b[39m \u001b[43mtrue_user\u001b[49m\u001b[38;5;241;43m.\u001b[39;49m\u001b[43mrespond\u001b[49m\u001b[43m(\u001b[49m\u001b[43mqueries\u001b[49m\u001b[43m[\u001b[49m\u001b[38;5;241;43m0\u001b[39;49m\u001b[43m]\u001b[49m\u001b[43m)\u001b[49m\n\u001b[1;32m    165\u001b[0m \u001b[38;5;28mself\u001b[39m\u001b[38;5;241m.\u001b[39m_belief\u001b[38;5;241m.\u001b[39mupdate(WeakComparison(queries[\u001b[38;5;241m0\u001b[39m], responses[\u001b[38;5;241m0\u001b[39m]))\n\u001b[1;32m    166\u001b[0m \u001b[38;5;28mself\u001b[39m\u001b[38;5;241m.\u001b[39m_env\u001b[38;5;241m.\u001b[39mreward_weights \u001b[38;5;241m=\u001b[39m \u001b[38;5;28mself\u001b[39m\u001b[38;5;241m.\u001b[39m_belief\u001b[38;5;241m.\u001b[39mmean[\u001b[38;5;124m'\u001b[39m\u001b[38;5;124mweights\u001b[39m\u001b[38;5;124m'\u001b[39m]\n",
      "File \u001b[0;32m~/Projects/cieran/cieran/learning/user_models.py:251\u001b[0m, in \u001b[0;36mHumanUser.respond\u001b[0;34m(self, queries)\u001b[0m\n\u001b[1;32m    249\u001b[0m responses \u001b[38;5;241m=\u001b[39m []\n\u001b[1;32m    250\u001b[0m \u001b[38;5;28;01mfor\u001b[39;00m query \u001b[38;5;129;01min\u001b[39;00m queries:\n\u001b[0;32m--> 251\u001b[0m     responses\u001b[38;5;241m.\u001b[39mappend(\u001b[43mquery\u001b[49m\u001b[38;5;241;43m.\u001b[39;49m\u001b[43mvisualize\u001b[49m\u001b[43m(\u001b[49m\u001b[38;5;28;43mself\u001b[39;49m\u001b[38;5;241;43m.\u001b[39;49m\u001b[43mdelay\u001b[49m\u001b[43m)\u001b[49m)\n\u001b[1;32m    252\u001b[0m \u001b[38;5;28;01mreturn\u001b[39;00m responses\n",
      "File \u001b[0;32m~/Projects/cieran/cieran/learning/data_types.py:174\u001b[0m, in \u001b[0;36mWeakComparisonQuery.visualize\u001b[0;34m(self, delay)\u001b[0m\n\u001b[1;32m    172\u001b[0m \u001b[38;5;28;01mwhile\u001b[39;00m selection \u001b[38;5;129;01mis\u001b[39;00m \u001b[38;5;28;01mNone\u001b[39;00m:\n\u001b[1;32m    173\u001b[0m     selection \u001b[38;5;241m=\u001b[39m \u001b[38;5;28minput\u001b[39m(\u001b[38;5;124m'\u001b[39m\u001b[38;5;124mWhich is better for a paper figure? Enter a number (1 left, 2 right, 0 about equal): \u001b[39m\u001b[38;5;124m'\u001b[39m)\n\u001b[0;32m--> 174\u001b[0m     selection \u001b[38;5;241m=\u001b[39m \u001b[38;5;28mstr\u001b[39m(\u001b[38;5;28;43mint\u001b[39;49m\u001b[43m(\u001b[49m\u001b[43mselection\u001b[49m\u001b[43m)\u001b[49m \u001b[38;5;241m-\u001b[39m \u001b[38;5;241m1\u001b[39m)\n\u001b[1;32m    175\u001b[0m     \u001b[38;5;28;01mif\u001b[39;00m \u001b[38;5;129;01mnot\u001b[39;00m isinteger(selection) \u001b[38;5;129;01mor\u001b[39;00m \u001b[38;5;28mint\u001b[39m(selection) \u001b[38;5;129;01mnot\u001b[39;00m \u001b[38;5;129;01min\u001b[39;00m \u001b[38;5;28mself\u001b[39m\u001b[38;5;241m.\u001b[39mresponse_set:\n\u001b[1;32m    176\u001b[0m         selection \u001b[38;5;241m=\u001b[39m \u001b[38;5;28;01mNone\u001b[39;00m\n",
      "\u001b[0;31mValueError\u001b[0m: invalid literal for int() with base 10: 'q'"
     ]
    }
   ],
   "source": [
    "cie.teach()"
   ]
  },
  {
   "cell_type": "code",
   "execution_count": 12,
   "metadata": {},
   "outputs": [
    {
     "data": {
      "application/vnd.jupyter.widget-view+json": {
       "model_id": "edfec9c85e744e6498090698b71e7814",
       "version_major": 2,
       "version_minor": 0
      },
      "text/plain": [
       "IntProgress(value=0, layout=Layout(height='36px', margin='8px', width='auto'), max=20000)"
      ]
     },
     "metadata": {},
     "output_type": "display_data"
    }
   ],
   "source": [
    "cie.search()"
   ]
  },
  {
   "cell_type": "code",
   "execution_count": 14,
   "metadata": {},
   "outputs": [
    {
     "data": {
      "image/png": "[encoded data removed]",
      "text/plain": [
       "<Figure size 640x480 with 1 Axes>"
      ]
     },
     "metadata": {},
     "output_type": "display_data"
    }
   ],
   "source": [
    "draw_kde(cie.search_result.ramp)"
   ]
  },
  {
   "cell_type": "code",
   "execution_count": 79,
   "metadata": {},
   "outputs": [
    {
     "data": {
      "image/png": "[encoded data removed]",
      "text/plain": [
       "<Figure size 640x480 with 1 Axes>"
      ]
     },
     "metadata": {},
     "output_type": "display_data"
    }
   ],
   "source": [
    "draw_figure(sns.cubehelix_palette(start=15, light=1, as_cmap=True))"
   ]
  },
  {
   "cell_type": "code",
   "execution_count": 3,
   "metadata": {},
   "outputs": [],
   "source": [
    "import numpy as np\n",
    "rs = np.random.RandomState(50)"
   ]
  },
  {
   "cell_type": "code",
   "execution_count": 1,
   "metadata": {},
   "outputs": [],
   "source": [
    "%load_ext autoreload\n",
    "%autoreload 2"
   ]
  },
  {
   "cell_type": "code",
   "execution_count": 112,
   "metadata": {},
   "outputs": [
    {
     "data": {
      "text/html": [
       "\n",
       "    <style>\n",
       "        .style_a {background-color:#fafaaa}\n",
       "        .style_b {background-color:#faaafa}\n",
       "        .style_c {background-color:#aafafa}\n",
       "    </style>\n"
      ],
      "text/plain": [
       "<IPython.core.display.HTML object>"
      ]
     },
     "metadata": {},
     "output_type": "display_data"
    },
    {
     "data": {
      "application/vnd.jupyter.widget-view+json": {
       "model_id": "12826a547bf647c58a2ca118520535db",
       "version_major": 2,
       "version_minor": 0
      },
      "text/plain": [
       "HBox(children=(VBox(children=(Checkbox(value=False, description='Gradient 1'), Checkbox(value=False, descripti…"
      ]
     },
     "metadata": {},
     "output_type": "display_data"
    }
   ],
   "source": [
    "import ipywidgets as widgets\n",
    "from IPython.display import display\n",
    "from IPython.display import HTML\n",
    "from matplotlib.colors import ListedColormap\n",
    "\n",
    "# Define the gradient styles using the provided color maps\n",
    "cmap1 = ['#ff0000', '#ffff00', '#00ff00', '#00ffff']\n",
    "cmap2 = ['#0000ff', '#ff00ff', '#ff0000']\n",
    "cmap3 = ['#00ff00', '#ffff00', '#ff00ff', '#0000ff']\n",
    "cmap4 = ['#00ffff', '#ff00ff', '#ffff00', '#0000ff']\n",
    "\n",
    "gradient_styles = []\n",
    "for cmap in [cmap1, cmap2, cmap3, cmap4]:\n",
    "    color_stops = ','.join(cmap)\n",
    "    gradient_styles.append(f'background: linear-gradient(to right, {color_stops}); color: white; border-color: transparent; border-radius: 5px;')\n",
    "\n",
    "style=\"\"\"\n",
    "    <style>\n",
    "        .style_a {background-color:#fafaaa}\n",
    "        .style_b {background-color:#faaafa}\n",
    "        .style_c {background-color:#aafafa}\n",
    "    </style>\n",
    "\"\"\"\n",
    "display(HTML(style))\n",
    "\n",
    "# Create the dropdown widget for the gradient styles\n",
    "gradient_dropdown = widgets.RadioButtons(\n",
    "    options=[i for i in range(len(gradient_styles))], \n",
    "    layout=widgets.Layout(width='auto'))\n",
    "\n",
    "gradient_dropdown.add_class('style_a')\n",
    "    \n",
    "# Create the widgets for the column\n",
    "chart_output = widgets.Output(layout=widgets.Layout(height='600px'))\n",
    "\n",
    "# Define the function to update the gradient style and chart when the dropdown value changes\n",
    "def update_gradient_style(change):\n",
    "    gradient_index = change['new']\n",
    "    cmap = [cmap1, cmap2, cmap3, cmap4][gradient_index]\n",
    "    gradient_style = gradient_styles[gradient_index]\n",
    "    with chart_output:\n",
    "        chart_output.clear_output()\n",
    "        draw_figure(ListedColormap(cmap))\n",
    "    gradient_dropdown.style.background = gradient_style\n",
    "\n",
    "# Initialize the dropdown with the first gradient style\n",
    "update_gradient_style({'new': 0})\n",
    "\n",
    "# Connect the function to the dropdown value change event\n",
    "gradient_dropdown.observe(update_gradient_style, names='value')\n",
    "\n",
    "# Combine the two rows into a single column\n",
    "column = widgets.HBox([gradient_dropdown, chart_output])\n",
    "\n",
    "# Display the column\n",
    "display(column)\n",
    "\n"
   ]
  },
  {
   "cell_type": "code",
   "execution_count": null,
   "metadata": {},
   "outputs": [],
   "source": []
  }
 ],
 "metadata": {
  "kernelspec": {
   "display_name": "Python 3 (ipykernel)",
   "language": "python",
   "name": "python3"
  },
  "language_info": {
   "codemirror_mode": {
    "name": "ipython",
    "version": 3
   },
   "file_extension": ".py",
   "mimetype": "text/x-python",
   "name": "python",
   "nbconvert_exporter": "python",
   "pygments_lexer": "ipython3",
   "version": "3.10.9"
  },
  "vscode": {
   "interpreter": {
    "hash": "598115aadcd325614e14ae54e6e1065c9f2252c8332948ad864ca717b5f2546d"
   }
  }
 },
 "nbformat": 4,
 "nbformat_minor": 2
}
