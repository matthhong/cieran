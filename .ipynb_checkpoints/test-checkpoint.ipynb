{
 "cells": [
  {
   "cell_type": "code",
   "execution_count": 3,
   "metadata": {},
   "outputs": [
    {
     "name": "stdout",
     "output_type": "stream",
     "text": [
      "/Users/beach/Projects/ramp-it/aprel/utils/generate_trajectories.py:117: UserWarning: headless=False was set, but either the environment is missing a render function or the render function does not accept mode='rgb_array'. Automatically switching to headless mode.\n",
      "  warnings.warn(('headless=False was set, but either the environment is missing '\n",
      "Estimated user parameters: {'weights': array([-0.15128591,  0.58354088,  0.04494362, -0.05892888, -0.23199889,\n",
      "        0.0941961 ,  0.53623754,  0.52995565])}\n",
      "Objective Value: 1.0183179071826538\n",
      "Figure(1000x500)\n",
      "Which trajectory is the best? Enter a number (0 for \"About Equal\"): ^C\n",
      "Traceback (most recent call last):\n",
      "  File \"/Users/beach/Projects/ramp-it/test.py\", line 197, in <module>\n",
      "    ramp = main()\n",
      "  File \"/Users/beach/Projects/ramp-it/test.py\", line 170, in main\n",
      "    responses = true_user.respond(queries[0])\n",
      "  File \"/Users/beach/Projects/ramp-it/aprel/learning/user_models.py\", line 274, in respond\n",
      "    responses.append(query.visualize(self.delay))\n",
      "  File \"/Users/beach/Projects/ramp-it/aprel/learning/data_types.py\", line 335, in visualize\n",
      "    selection = input('Which trajectory is the best? Enter a number (0 for \"About Equal\"): ')\n",
      "KeyboardInterrupt\n"
     ]
    }
   ],
   "source": [
    "# run test.py\n",
    "\n",
    "!python test.py"
   ]
  },
  {
   "cell_type": "code",
   "execution_count": null,
   "metadata": {},
   "outputs": [],
   "source": [
    "a = input()\n",
    "print(a)"
   ]
  },
  {
   "cell_type": "code",
   "execution_count": null,
   "metadata": {},
   "outputs": [],
   "source": []
  }
 ],
 "metadata": {
  "kernelspec": {
   "display_name": "Python 3 (ipykernel)",
   "language": "python",
   "name": "python3"
  },
  "language_info": {
   "codemirror_mode": {
    "name": "ipython",
    "version": 3
   },
   "file_extension": ".py",
   "mimetype": "text/x-python",
   "name": "python",
   "nbconvert_exporter": "python",
   "pygments_lexer": "ipython3",
   "version": "3.10.8"
  },
  "vscode": {
   "interpreter": {
    "hash": "598115aadcd325614e14ae54e6e1065c9f2252c8332948ad864ca717b5f2546d"
   }
  }
 },
 "nbformat": 4,
 "nbformat_minor": 2
}
