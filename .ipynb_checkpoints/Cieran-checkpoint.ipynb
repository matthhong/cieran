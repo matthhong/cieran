{
 "cells": [
  {
   "cell_type": "code",
   "execution_count": null,
   "id": "879e7abd",
   "metadata": {},
   "outputs": [],
   "source": []
  },
  {
   "cell_type": "code",
   "execution_count": 1,
   "id": "91216af4",
   "metadata": {},
   "outputs": [],
   "source": [
    "%load_ext autoreload\n",
    "%autoreload 2\n",
    "from cieran import Cieran\n",
    "import seaborn as sns\n",
    "import numpy as np\n",
    "sns.set_theme(style=\"white\")\n",
    "rs = np.random.RandomState(50)\n",
    "import matplotlib.pyplot as plt\n",
    "\n",
    "x, y = rs.normal(size=(2, 1000), scale=2)\n",
    "def draw_kde(cmap):\n",
    "    # Set up the matplotlib figure\n",
    "    fig, ax = plt.subplots()\n",
    "    sns.kdeplot(x=x, y=y, cmap=cmap, ax=ax, fill=True)\n",
    "    # Adjust aspect ratio to be equal\n",
    "    ax.set_aspect('equal')\n",
    "\n",
    "    ax.set_axis_off()\n",
    "    ax.set(xlim=(-6, 6), ylim=(-6, 6))\n",
    "    plt.tight_layout()\n",
    "    \n",
    "    plt.show()\n",
    "    \n",
    "def draw_heatmap(cmap):\n",
    "    # Set up the matplotlib figure\n",
    "    fig, ax = plt.subplots()\n",
    "    \n",
    "    sns.histplot(x=x, y=y, cmap=cmap, ax=ax, stat='density', bins=20)\n",
    "    # Adjust aspect ratio to be equal\n",
    "    ax.set_aspect('equal')\n",
    "\n",
    "    ax.set_axis_off()\n",
    "    ax.set(xlim=(-6, 6), ylim=(-6, 6))\n",
    "    plt.tight_layout()\n",
    "\n",
    "    plt.show()\n",
    "\n",
    "def draw_hexbin(cmap):\n",
    "    # Set up the matplotlib figure\n",
    "    # fig, ax = plt.subplots()\n",
    "    \n",
    "    fig, ax = plt.subplots()\n",
    "    plt.hexbin(x, y, cmap=cmap, gridsize=20)\n",
    "\n",
    "    ax.set_aspect('equal')\n",
    "\n",
    "    ax.set_axis_off()\n",
    "    ax.set(xlim=(-6, 6), ylim=(-6, 6))\n",
    "    plt.tight_layout()\n",
    "\n",
    "    plt.show()\n"
   ]
  },
  {
   "cell_type": "code",
   "execution_count": null,
   "id": "ffa711f5",
   "metadata": {},
   "outputs": [],
   "source": []
  }
 ],
 "metadata": {
  "kernelspec": {
   "display_name": "Python 3 (ipykernel)",
   "language": "python",
   "name": "python3"
  },
  "language_info": {
   "codemirror_mode": {
    "name": "ipython",
    "version": 3
   },
   "file_extension": ".py",
   "mimetype": "text/x-python",
   "name": "python",
   "nbconvert_exporter": "python",
   "pygments_lexer": "ipython3",
   "version": "3.10.9"
  }
 },
 "nbformat": 4,
 "nbformat_minor": 5
}
